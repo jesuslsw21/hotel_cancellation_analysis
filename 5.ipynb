{
 "cells": [
  {
   "cell_type": "markdown",
   "metadata": {
    "Collapsed": "false"
   },
   "source": [
    "# 1. Problem Framing"
   ]
  },
  {
   "cell_type": "markdown",
   "metadata": {
    "Collapsed": "false"
   },
   "source": [
    "Business application is that the company identified a lot of wastage in the business. To reduce this we are determining when extra staff are needed and when they are not needed."
   ]
  },
  {
   "cell_type": "code",
   "execution_count": 2,
   "metadata": {},
   "outputs": [],
   "source": [
    "from IPython.display import display\n",
    "from IPython.display import Image\n",
    "\n",
    "from sklearn.externals.six import StringIO \n",
    "from subprocess import call\n",
    "import warnings\n",
    "warnings.filterwarnings('ignore')\n",
    "import numpy as np\n",
    "import pandas as pd\n",
    "import itertools\n",
    "import matplotlib.pyplot as plt\n",
    "import matplotlib.image as mpimg\n",
    "%matplotlib inline\n",
    "import seaborn as sns\n",
    "from sklearn.svm import SVC\n",
    "from sklearn.metrics import confusion_matrix, roc_curve, roc_auc_score, classification_report \n",
    "from deslib.static.stacked import StackedClassifier\n",
    "from sklearn.ensemble import VotingClassifier, BaggingClassifier, AdaBoostClassifier, RandomForestClassifier\n",
    "from xgboost.sklearn import XGBClassifier\n",
    "from sklearn.model_selection import train_test_split, GridSearchCV, StratifiedKFold\n",
    "from sklearn.metrics import accuracy_score,precision_score,recall_score,confusion_matrix\n",
    "from sklearn import tree\n",
    "from sklearn.tree import export_graphviz\n",
    "from sklearn.tree import DecisionTreeClassifier\n",
    "from sklearn.linear_model import LogisticRegression, LinearRegression\n",
    "from sklearn.preprocessing import StandardScaler, LabelEncoder, OneHotEncoder\n",
    "from sklearn.metrics import f1_score\n",
    "from sklearn.preprocessing import Binarizer\n",
    "from sklearn.model_selection import train_test_split\n",
    "from sklearn.ensemble import VotingClassifier\n",
    "from sklearn.neighbors import KNeighborsClassifier\n",
    "import sklearn.linear_model as lm\n",
    "from sklearn.model_selection import GridSearchCV\n",
    "import xgboost as xgb\n",
    "from xgboost import plot_importance\n",
    "from xgboost import XGBClassifier"
   ]
  },
  {
   "cell_type": "markdown",
   "metadata": {
    "Collapsed": "false"
   },
   "source": [
    "# 2. Exploratory Data Analysis"
   ]
  },
  {
   "cell_type": "code",
   "execution_count": 3,
   "metadata": {
    "Collapsed": "false"
   },
   "outputs": [],
   "source": [
    "import pandas as pd\n",
    "import matplotlib.pyplot as plt\n",
    "import warnings\n",
    "import seaborn as sns\n",
    "\n",
    "warnings.filterwarnings('ignore')"
   ]
  },
  {
   "cell_type": "code",
   "execution_count": 4,
   "metadata": {
    "Collapsed": "false"
   },
   "outputs": [],
   "source": [
    "df = pd.read_csv('H2.csv')"
   ]
  },
  {
   "cell_type": "code",
   "execution_count": 5,
   "metadata": {
    "Collapsed": "false"
   },
   "outputs": [
    {
     "data": {
      "text/html": [
       "<div>\n",
       "<style scoped>\n",
       "    .dataframe tbody tr th:only-of-type {\n",
       "        vertical-align: middle;\n",
       "    }\n",
       "\n",
       "    .dataframe tbody tr th {\n",
       "        vertical-align: top;\n",
       "    }\n",
       "\n",
       "    .dataframe thead th {\n",
       "        text-align: right;\n",
       "    }\n",
       "</style>\n",
       "<table border=\"1\" class=\"dataframe\">\n",
       "  <thead>\n",
       "    <tr style=\"text-align: right;\">\n",
       "      <th></th>\n",
       "      <th>IsCanceled</th>\n",
       "      <th>LeadTime</th>\n",
       "      <th>ArrivalDateYear</th>\n",
       "      <th>ArrivalDateMonth</th>\n",
       "      <th>ArrivalDateWeekNumber</th>\n",
       "      <th>ArrivalDateDayOfMonth</th>\n",
       "      <th>StaysInWeekendNights</th>\n",
       "      <th>StaysInWeekNights</th>\n",
       "      <th>Adults</th>\n",
       "      <th>Children</th>\n",
       "      <th>...</th>\n",
       "      <th>DepositType</th>\n",
       "      <th>Agent</th>\n",
       "      <th>Company</th>\n",
       "      <th>DaysInWaitingList</th>\n",
       "      <th>CustomerType</th>\n",
       "      <th>ADR</th>\n",
       "      <th>RequiredCarParkingSpaces</th>\n",
       "      <th>TotalOfSpecialRequests</th>\n",
       "      <th>ReservationStatus</th>\n",
       "      <th>ReservationStatusDate</th>\n",
       "    </tr>\n",
       "  </thead>\n",
       "  <tbody>\n",
       "    <tr>\n",
       "      <th>0</th>\n",
       "      <td>0</td>\n",
       "      <td>6</td>\n",
       "      <td>2015</td>\n",
       "      <td>July</td>\n",
       "      <td>27</td>\n",
       "      <td>1</td>\n",
       "      <td>0</td>\n",
       "      <td>2</td>\n",
       "      <td>1</td>\n",
       "      <td>0.0</td>\n",
       "      <td>...</td>\n",
       "      <td>No Deposit</td>\n",
       "      <td>6</td>\n",
       "      <td>NULL</td>\n",
       "      <td>0</td>\n",
       "      <td>Transient</td>\n",
       "      <td>0.0</td>\n",
       "      <td>0</td>\n",
       "      <td>0</td>\n",
       "      <td>Check-Out</td>\n",
       "      <td>2015-07-03</td>\n",
       "    </tr>\n",
       "    <tr>\n",
       "      <th>1</th>\n",
       "      <td>1</td>\n",
       "      <td>88</td>\n",
       "      <td>2015</td>\n",
       "      <td>July</td>\n",
       "      <td>27</td>\n",
       "      <td>1</td>\n",
       "      <td>0</td>\n",
       "      <td>4</td>\n",
       "      <td>2</td>\n",
       "      <td>0.0</td>\n",
       "      <td>...</td>\n",
       "      <td>No Deposit</td>\n",
       "      <td>9</td>\n",
       "      <td>NULL</td>\n",
       "      <td>0</td>\n",
       "      <td>Transient</td>\n",
       "      <td>76.5</td>\n",
       "      <td>0</td>\n",
       "      <td>1</td>\n",
       "      <td>Canceled</td>\n",
       "      <td>2015-07-01</td>\n",
       "    </tr>\n",
       "    <tr>\n",
       "      <th>2</th>\n",
       "      <td>1</td>\n",
       "      <td>65</td>\n",
       "      <td>2015</td>\n",
       "      <td>July</td>\n",
       "      <td>27</td>\n",
       "      <td>1</td>\n",
       "      <td>0</td>\n",
       "      <td>4</td>\n",
       "      <td>1</td>\n",
       "      <td>0.0</td>\n",
       "      <td>...</td>\n",
       "      <td>No Deposit</td>\n",
       "      <td>9</td>\n",
       "      <td>NULL</td>\n",
       "      <td>0</td>\n",
       "      <td>Transient</td>\n",
       "      <td>68.0</td>\n",
       "      <td>0</td>\n",
       "      <td>1</td>\n",
       "      <td>Canceled</td>\n",
       "      <td>2015-04-30</td>\n",
       "    </tr>\n",
       "    <tr>\n",
       "      <th>3</th>\n",
       "      <td>1</td>\n",
       "      <td>92</td>\n",
       "      <td>2015</td>\n",
       "      <td>July</td>\n",
       "      <td>27</td>\n",
       "      <td>1</td>\n",
       "      <td>2</td>\n",
       "      <td>4</td>\n",
       "      <td>2</td>\n",
       "      <td>0.0</td>\n",
       "      <td>...</td>\n",
       "      <td>No Deposit</td>\n",
       "      <td>9</td>\n",
       "      <td>NULL</td>\n",
       "      <td>0</td>\n",
       "      <td>Transient</td>\n",
       "      <td>76.5</td>\n",
       "      <td>0</td>\n",
       "      <td>2</td>\n",
       "      <td>Canceled</td>\n",
       "      <td>2015-06-23</td>\n",
       "    </tr>\n",
       "    <tr>\n",
       "      <th>4</th>\n",
       "      <td>1</td>\n",
       "      <td>100</td>\n",
       "      <td>2015</td>\n",
       "      <td>July</td>\n",
       "      <td>27</td>\n",
       "      <td>2</td>\n",
       "      <td>0</td>\n",
       "      <td>2</td>\n",
       "      <td>2</td>\n",
       "      <td>0.0</td>\n",
       "      <td>...</td>\n",
       "      <td>No Deposit</td>\n",
       "      <td>9</td>\n",
       "      <td>NULL</td>\n",
       "      <td>0</td>\n",
       "      <td>Transient</td>\n",
       "      <td>76.5</td>\n",
       "      <td>0</td>\n",
       "      <td>1</td>\n",
       "      <td>Canceled</td>\n",
       "      <td>2015-04-02</td>\n",
       "    </tr>\n",
       "  </tbody>\n",
       "</table>\n",
       "<p>5 rows × 31 columns</p>\n",
       "</div>"
      ],
      "text/plain": [
       "   IsCanceled  LeadTime  ArrivalDateYear ArrivalDateMonth  \\\n",
       "0           0         6             2015             July   \n",
       "1           1        88             2015             July   \n",
       "2           1        65             2015             July   \n",
       "3           1        92             2015             July   \n",
       "4           1       100             2015             July   \n",
       "\n",
       "   ArrivalDateWeekNumber  ArrivalDateDayOfMonth  StaysInWeekendNights  \\\n",
       "0                     27                      1                     0   \n",
       "1                     27                      1                     0   \n",
       "2                     27                      1                     0   \n",
       "3                     27                      1                     2   \n",
       "4                     27                      2                     0   \n",
       "\n",
       "   StaysInWeekNights  Adults  Children  ...      DepositType        Agent  \\\n",
       "0                  2       1       0.0  ...  No Deposit                 6   \n",
       "1                  4       2       0.0  ...  No Deposit                 9   \n",
       "2                  4       1       0.0  ...  No Deposit                 9   \n",
       "3                  4       2       0.0  ...  No Deposit                 9   \n",
       "4                  2       2       0.0  ...  No Deposit                 9   \n",
       "\n",
       "       Company DaysInWaitingList CustomerType   ADR  RequiredCarParkingSpaces  \\\n",
       "0         NULL                 0    Transient   0.0                         0   \n",
       "1         NULL                 0    Transient  76.5                         0   \n",
       "2         NULL                 0    Transient  68.0                         0   \n",
       "3         NULL                 0    Transient  76.5                         0   \n",
       "4         NULL                 0    Transient  76.5                         0   \n",
       "\n",
       "   TotalOfSpecialRequests ReservationStatus ReservationStatusDate  \n",
       "0                       0         Check-Out            2015-07-03  \n",
       "1                       1          Canceled            2015-07-01  \n",
       "2                       1          Canceled            2015-04-30  \n",
       "3                       2          Canceled            2015-06-23  \n",
       "4                       1          Canceled            2015-04-02  \n",
       "\n",
       "[5 rows x 31 columns]"
      ]
     },
     "execution_count": 5,
     "metadata": {},
     "output_type": "execute_result"
    }
   ],
   "source": [
    "df.head()"
   ]
  },
  {
   "cell_type": "markdown",
   "metadata": {
    "Collapsed": "false"
   },
   "source": [
    "## 2.1. Calculating Cost Function"
   ]
  },
  {
   "cell_type": "code",
   "execution_count": 6,
   "metadata": {
    "Collapsed": "false"
   },
   "outputs": [],
   "source": [
    "import sklearn"
   ]
  },
  {
   "cell_type": "code",
   "execution_count": 7,
   "metadata": {
    "Collapsed": "false"
   },
   "outputs": [
    {
     "name": "stdout",
     "output_type": "stream",
     "text": [
      "The scikit-learn version is 0.22.1.\n"
     ]
    }
   ],
   "source": [
    "print('The scikit-learn version is {}.'.format(sklearn.__version__))"
   ]
  },
  {
   "cell_type": "code",
   "execution_count": null,
   "metadata": {
    "Collapsed": "false"
   },
   "outputs": [],
   "source": []
  },
  {
   "cell_type": "code",
   "execution_count": 8,
   "metadata": {
    "Collapsed": "false"
   },
   "outputs": [
    {
     "data": {
      "text/plain": [
       "79330"
      ]
     },
     "execution_count": 8,
     "metadata": {},
     "output_type": "execute_result"
    }
   ],
   "source": [
    "len(df)"
   ]
  },
  {
   "cell_type": "code",
   "execution_count": 9,
   "metadata": {
    "Collapsed": "false"
   },
   "outputs": [
    {
     "data": {
      "text/plain": [
       "0    46228\n",
       "1    33102\n",
       "Name: IsCanceled, dtype: int64"
      ]
     },
     "execution_count": 9,
     "metadata": {},
     "output_type": "execute_result"
    }
   ],
   "source": [
    "df.IsCanceled.value_counts()"
   ]
  },
  {
   "cell_type": "markdown",
   "metadata": {
    "Collapsed": "false"
   },
   "source": [
    "# 3. Preprocessing"
   ]
  },
  {
   "cell_type": "code",
   "execution_count": 10,
   "metadata": {
    "Collapsed": "false"
   },
   "outputs": [],
   "source": [
    "# df.hist(bins=30, figsize=(16,16))\n",
    "# plt.show()"
   ]
  },
  {
   "cell_type": "code",
   "execution_count": 11,
   "metadata": {
    "Collapsed": "false"
   },
   "outputs": [
    {
     "data": {
      "text/plain": [
       "79330"
      ]
     },
     "execution_count": 11,
     "metadata": {},
     "output_type": "execute_result"
    }
   ],
   "source": [
    "len(df)"
   ]
  },
  {
   "cell_type": "code",
   "execution_count": 12,
   "metadata": {
    "Collapsed": "false"
   },
   "outputs": [
    {
     "data": {
      "text/plain": [
       "28"
      ]
     },
     "execution_count": 12,
     "metadata": {},
     "output_type": "execute_result"
    }
   ],
   "source": [
    "df.isna().sum().sum()"
   ]
  },
  {
   "cell_type": "code",
   "execution_count": 13,
   "metadata": {
    "Collapsed": "false"
   },
   "outputs": [],
   "source": [
    "df = df.dropna()"
   ]
  },
  {
   "cell_type": "code",
   "execution_count": 14,
   "metadata": {
    "Collapsed": "false"
   },
   "outputs": [
    {
     "data": {
      "text/plain": [
       "0"
      ]
     },
     "execution_count": 14,
     "metadata": {},
     "output_type": "execute_result"
    }
   ],
   "source": [
    "df.isna().sum().sum()"
   ]
  },
  {
   "cell_type": "code",
   "execution_count": 15,
   "metadata": {
    "Collapsed": "false"
   },
   "outputs": [],
   "source": [
    "df.reset_index(drop=True, inplace=True)"
   ]
  },
  {
   "cell_type": "code",
   "execution_count": 16,
   "metadata": {
    "Collapsed": "false"
   },
   "outputs": [
    {
     "data": {
      "text/plain": [
       "79302"
      ]
     },
     "execution_count": 16,
     "metadata": {},
     "output_type": "execute_result"
    }
   ],
   "source": [
    "len(df)"
   ]
  },
  {
   "cell_type": "code",
   "execution_count": 17,
   "metadata": {
    "Collapsed": "false"
   },
   "outputs": [],
   "source": [
    "# df.loc[df['Agent'] == '       NULL']"
   ]
  },
  {
   "cell_type": "code",
   "execution_count": 18,
   "metadata": {
    "Collapsed": "false"
   },
   "outputs": [],
   "source": [
    "df.drop(columns=['ReservationStatusDate', 'ReservationStatus'], inplace=True)"
   ]
  },
  {
   "cell_type": "code",
   "execution_count": 19,
   "metadata": {
    "Collapsed": "false"
   },
   "outputs": [
    {
     "data": {
      "text/plain": [
       "79302"
      ]
     },
     "execution_count": 19,
     "metadata": {},
     "output_type": "execute_result"
    }
   ],
   "source": [
    "len(df)"
   ]
  },
  {
   "cell_type": "code",
   "execution_count": 20,
   "metadata": {
    "Collapsed": "false"
   },
   "outputs": [],
   "source": [
    "y = df[['IsCanceled']]\n",
    "X = df.drop(columns=['IsCanceled','ArrivalDateYear'])"
   ]
  },
  {
   "cell_type": "code",
   "execution_count": 21,
   "metadata": {
    "Collapsed": "false"
   },
   "outputs": [],
   "source": [
    "num_features = ['LeadTime',\n",
    "            'StaysInWeekendNights',\n",
    "            'StaysInWeekNights',\n",
    "            'Adults',\n",
    "            'Children',\n",
    "            'Babies',\n",
    "            'PreviousCancellations',\n",
    "            'PreviousBookingsNotCanceled',\n",
    "            'BookingChanges',\n",
    "            'DaysInWaitingList',\n",
    "            'ADR',\n",
    "            'RequiredCarParkingSpaces',\n",
    "            'TotalOfSpecialRequests']\n",
    "\n",
    "df_num = X[num_features]\n",
    "\n",
    "df_cat = X.drop(columns=num_features)\n",
    "\n",
    "cat_features = list(df_cat.columns)"
   ]
  },
  {
   "cell_type": "code",
   "execution_count": 22,
   "metadata": {
    "Collapsed": "false"
   },
   "outputs": [
    {
     "data": {
      "text/plain": [
       "79302"
      ]
     },
     "execution_count": 22,
     "metadata": {},
     "output_type": "execute_result"
    }
   ],
   "source": [
    "len(X)"
   ]
  },
  {
   "cell_type": "code",
   "execution_count": 23,
   "metadata": {
    "Collapsed": "false"
   },
   "outputs": [
    {
     "data": {
      "text/plain": [
       "79302"
      ]
     },
     "execution_count": 23,
     "metadata": {},
     "output_type": "execute_result"
    }
   ],
   "source": [
    "len(y)"
   ]
  },
  {
   "cell_type": "code",
   "execution_count": 24,
   "metadata": {
    "Collapsed": "false"
   },
   "outputs": [],
   "source": [
    "X = pd.get_dummies(X, columns=cat_features, drop_first=True)"
   ]
  },
  {
   "cell_type": "code",
   "execution_count": 25,
   "metadata": {
    "Collapsed": "false"
   },
   "outputs": [
    {
     "data": {
      "text/html": [
       "<div>\n",
       "<style scoped>\n",
       "    .dataframe tbody tr th:only-of-type {\n",
       "        vertical-align: middle;\n",
       "    }\n",
       "\n",
       "    .dataframe tbody tr th {\n",
       "        vertical-align: top;\n",
       "    }\n",
       "\n",
       "    .dataframe thead th {\n",
       "        text-align: right;\n",
       "    }\n",
       "</style>\n",
       "<table border=\"1\" class=\"dataframe\">\n",
       "  <thead>\n",
       "    <tr style=\"text-align: right;\">\n",
       "      <th></th>\n",
       "      <th>LeadTime</th>\n",
       "      <th>StaysInWeekendNights</th>\n",
       "      <th>StaysInWeekNights</th>\n",
       "      <th>Adults</th>\n",
       "      <th>Children</th>\n",
       "      <th>Babies</th>\n",
       "      <th>PreviousCancellations</th>\n",
       "      <th>PreviousBookingsNotCanceled</th>\n",
       "      <th>BookingChanges</th>\n",
       "      <th>DaysInWaitingList</th>\n",
       "      <th>...</th>\n",
       "      <th>Company_        486</th>\n",
       "      <th>Company_        489</th>\n",
       "      <th>Company_        491</th>\n",
       "      <th>Company_        492</th>\n",
       "      <th>Company_        494</th>\n",
       "      <th>Company_        497</th>\n",
       "      <th>Company_       NULL</th>\n",
       "      <th>CustomerType_Group</th>\n",
       "      <th>CustomerType_Transient</th>\n",
       "      <th>CustomerType_Transient-Party</th>\n",
       "    </tr>\n",
       "  </thead>\n",
       "  <tbody>\n",
       "    <tr>\n",
       "      <th>0</th>\n",
       "      <td>6</td>\n",
       "      <td>0</td>\n",
       "      <td>2</td>\n",
       "      <td>1</td>\n",
       "      <td>0.0</td>\n",
       "      <td>0</td>\n",
       "      <td>0</td>\n",
       "      <td>0</td>\n",
       "      <td>0</td>\n",
       "      <td>0</td>\n",
       "      <td>...</td>\n",
       "      <td>0</td>\n",
       "      <td>0</td>\n",
       "      <td>0</td>\n",
       "      <td>0</td>\n",
       "      <td>0</td>\n",
       "      <td>0</td>\n",
       "      <td>1</td>\n",
       "      <td>0</td>\n",
       "      <td>1</td>\n",
       "      <td>0</td>\n",
       "    </tr>\n",
       "    <tr>\n",
       "      <th>1</th>\n",
       "      <td>88</td>\n",
       "      <td>0</td>\n",
       "      <td>4</td>\n",
       "      <td>2</td>\n",
       "      <td>0.0</td>\n",
       "      <td>0</td>\n",
       "      <td>0</td>\n",
       "      <td>0</td>\n",
       "      <td>0</td>\n",
       "      <td>0</td>\n",
       "      <td>...</td>\n",
       "      <td>0</td>\n",
       "      <td>0</td>\n",
       "      <td>0</td>\n",
       "      <td>0</td>\n",
       "      <td>0</td>\n",
       "      <td>0</td>\n",
       "      <td>1</td>\n",
       "      <td>0</td>\n",
       "      <td>1</td>\n",
       "      <td>0</td>\n",
       "    </tr>\n",
       "    <tr>\n",
       "      <th>2</th>\n",
       "      <td>65</td>\n",
       "      <td>0</td>\n",
       "      <td>4</td>\n",
       "      <td>1</td>\n",
       "      <td>0.0</td>\n",
       "      <td>0</td>\n",
       "      <td>0</td>\n",
       "      <td>0</td>\n",
       "      <td>0</td>\n",
       "      <td>0</td>\n",
       "      <td>...</td>\n",
       "      <td>0</td>\n",
       "      <td>0</td>\n",
       "      <td>0</td>\n",
       "      <td>0</td>\n",
       "      <td>0</td>\n",
       "      <td>0</td>\n",
       "      <td>1</td>\n",
       "      <td>0</td>\n",
       "      <td>1</td>\n",
       "      <td>0</td>\n",
       "    </tr>\n",
       "    <tr>\n",
       "      <th>3</th>\n",
       "      <td>92</td>\n",
       "      <td>2</td>\n",
       "      <td>4</td>\n",
       "      <td>2</td>\n",
       "      <td>0.0</td>\n",
       "      <td>0</td>\n",
       "      <td>0</td>\n",
       "      <td>0</td>\n",
       "      <td>0</td>\n",
       "      <td>0</td>\n",
       "      <td>...</td>\n",
       "      <td>0</td>\n",
       "      <td>0</td>\n",
       "      <td>0</td>\n",
       "      <td>0</td>\n",
       "      <td>0</td>\n",
       "      <td>0</td>\n",
       "      <td>1</td>\n",
       "      <td>0</td>\n",
       "      <td>1</td>\n",
       "      <td>0</td>\n",
       "    </tr>\n",
       "    <tr>\n",
       "      <th>4</th>\n",
       "      <td>100</td>\n",
       "      <td>0</td>\n",
       "      <td>2</td>\n",
       "      <td>2</td>\n",
       "      <td>0.0</td>\n",
       "      <td>0</td>\n",
       "      <td>0</td>\n",
       "      <td>0</td>\n",
       "      <td>0</td>\n",
       "      <td>0</td>\n",
       "      <td>...</td>\n",
       "      <td>0</td>\n",
       "      <td>0</td>\n",
       "      <td>0</td>\n",
       "      <td>0</td>\n",
       "      <td>0</td>\n",
       "      <td>0</td>\n",
       "      <td>1</td>\n",
       "      <td>0</td>\n",
       "      <td>1</td>\n",
       "      <td>0</td>\n",
       "    </tr>\n",
       "  </tbody>\n",
       "</table>\n",
       "<p>5 rows × 733 columns</p>\n",
       "</div>"
      ],
      "text/plain": [
       "   LeadTime  StaysInWeekendNights  StaysInWeekNights  Adults  Children  \\\n",
       "0         6                     0                  2       1       0.0   \n",
       "1        88                     0                  4       2       0.0   \n",
       "2        65                     0                  4       1       0.0   \n",
       "3        92                     2                  4       2       0.0   \n",
       "4       100                     0                  2       2       0.0   \n",
       "\n",
       "   Babies  PreviousCancellations  PreviousBookingsNotCanceled  BookingChanges  \\\n",
       "0       0                      0                            0               0   \n",
       "1       0                      0                            0               0   \n",
       "2       0                      0                            0               0   \n",
       "3       0                      0                            0               0   \n",
       "4       0                      0                            0               0   \n",
       "\n",
       "   DaysInWaitingList  ...  Company_        486  Company_        489  \\\n",
       "0                  0  ...                    0                    0   \n",
       "1                  0  ...                    0                    0   \n",
       "2                  0  ...                    0                    0   \n",
       "3                  0  ...                    0                    0   \n",
       "4                  0  ...                    0                    0   \n",
       "\n",
       "   Company_        491  Company_        492  Company_        494  \\\n",
       "0                    0                    0                    0   \n",
       "1                    0                    0                    0   \n",
       "2                    0                    0                    0   \n",
       "3                    0                    0                    0   \n",
       "4                    0                    0                    0   \n",
       "\n",
       "   Company_        497  Company_       NULL  CustomerType_Group  \\\n",
       "0                    0                    1                   0   \n",
       "1                    0                    1                   0   \n",
       "2                    0                    1                   0   \n",
       "3                    0                    1                   0   \n",
       "4                    0                    1                   0   \n",
       "\n",
       "   CustomerType_Transient  CustomerType_Transient-Party  \n",
       "0                       1                             0  \n",
       "1                       1                             0  \n",
       "2                       1                             0  \n",
       "3                       1                             0  \n",
       "4                       1                             0  \n",
       "\n",
       "[5 rows x 733 columns]"
      ]
     },
     "execution_count": 25,
     "metadata": {},
     "output_type": "execute_result"
    }
   ],
   "source": [
    "X.head()"
   ]
  },
  {
   "cell_type": "code",
   "execution_count": 26,
   "metadata": {
    "Collapsed": "false"
   },
   "outputs": [
    {
     "data": {
      "text/plain": [
       "79302"
      ]
     },
     "execution_count": 26,
     "metadata": {},
     "output_type": "execute_result"
    }
   ],
   "source": [
    "len(X)"
   ]
  },
  {
   "cell_type": "code",
   "execution_count": null,
   "metadata": {
    "Collapsed": "false"
   },
   "outputs": [],
   "source": []
  },
  {
   "cell_type": "code",
   "execution_count": 27,
   "metadata": {
    "Collapsed": "false",
    "scrolled": true
   },
   "outputs": [
    {
     "data": {
      "text/plain": [
       "79302"
      ]
     },
     "execution_count": 27,
     "metadata": {},
     "output_type": "execute_result"
    }
   ],
   "source": [
    "len(X)"
   ]
  },
  {
   "cell_type": "code",
   "execution_count": 49,
   "metadata": {},
   "outputs": [],
   "source": [
    "X_2 = X.drop(columns=num_features)"
   ]
  },
  {
   "cell_type": "markdown",
   "metadata": {
    "Collapsed": "false"
   },
   "source": [
    "# 4. Modelling"
   ]
  },
  {
   "cell_type": "markdown",
   "metadata": {
    "Collapsed": "false"
   },
   "source": [
    "## 4.0 Train-Test Split and Scaling"
   ]
  },
  {
   "cell_type": "markdown",
   "metadata": {},
   "source": [
    "Logistic Regression must be scaled in advance, because the accuracy can be influenced."
   ]
  },
  {
   "cell_type": "code",
   "execution_count": 50,
   "metadata": {},
   "outputs": [
    {
     "data": {
      "text/html": [
       "<div>\n",
       "<style scoped>\n",
       "    .dataframe tbody tr th:only-of-type {\n",
       "        vertical-align: middle;\n",
       "    }\n",
       "\n",
       "    .dataframe tbody tr th {\n",
       "        vertical-align: top;\n",
       "    }\n",
       "\n",
       "    .dataframe thead th {\n",
       "        text-align: right;\n",
       "    }\n",
       "</style>\n",
       "<table border=\"1\" class=\"dataframe\">\n",
       "  <thead>\n",
       "    <tr style=\"text-align: right;\">\n",
       "      <th></th>\n",
       "      <th>LeadTime</th>\n",
       "      <th>StaysInWeekendNights</th>\n",
       "      <th>StaysInWeekNights</th>\n",
       "      <th>Adults</th>\n",
       "      <th>Children</th>\n",
       "      <th>Babies</th>\n",
       "      <th>PreviousCancellations</th>\n",
       "      <th>PreviousBookingsNotCanceled</th>\n",
       "      <th>BookingChanges</th>\n",
       "      <th>DaysInWaitingList</th>\n",
       "      <th>...</th>\n",
       "      <th>Company_        486</th>\n",
       "      <th>Company_        489</th>\n",
       "      <th>Company_        491</th>\n",
       "      <th>Company_        492</th>\n",
       "      <th>Company_        494</th>\n",
       "      <th>Company_        497</th>\n",
       "      <th>Company_       NULL</th>\n",
       "      <th>CustomerType_Group</th>\n",
       "      <th>CustomerType_Transient</th>\n",
       "      <th>CustomerType_Transient-Party</th>\n",
       "    </tr>\n",
       "  </thead>\n",
       "  <tbody>\n",
       "    <tr>\n",
       "      <th>0</th>\n",
       "      <td>-0.934996</td>\n",
       "      <td>-0.898710</td>\n",
       "      <td>-0.125608</td>\n",
       "      <td>-1.672123</td>\n",
       "      <td>-0.245542</td>\n",
       "      <td>-0.058611</td>\n",
       "      <td>-0.191969</td>\n",
       "      <td>-0.078183</td>\n",
       "      <td>-0.30792</td>\n",
       "      <td>-0.154635</td>\n",
       "      <td>...</td>\n",
       "      <td>0</td>\n",
       "      <td>0</td>\n",
       "      <td>0</td>\n",
       "      <td>0</td>\n",
       "      <td>0</td>\n",
       "      <td>0</td>\n",
       "      <td>1</td>\n",
       "      <td>0</td>\n",
       "      <td>1</td>\n",
       "      <td>0</td>\n",
       "    </tr>\n",
       "    <tr>\n",
       "      <th>1</th>\n",
       "      <td>-0.195941</td>\n",
       "      <td>-0.898710</td>\n",
       "      <td>1.247936</td>\n",
       "      <td>0.292478</td>\n",
       "      <td>-0.245542</td>\n",
       "      <td>-0.058611</td>\n",
       "      <td>-0.191969</td>\n",
       "      <td>-0.078183</td>\n",
       "      <td>-0.30792</td>\n",
       "      <td>-0.154635</td>\n",
       "      <td>...</td>\n",
       "      <td>0</td>\n",
       "      <td>0</td>\n",
       "      <td>0</td>\n",
       "      <td>0</td>\n",
       "      <td>0</td>\n",
       "      <td>0</td>\n",
       "      <td>1</td>\n",
       "      <td>0</td>\n",
       "      <td>1</td>\n",
       "      <td>0</td>\n",
       "    </tr>\n",
       "    <tr>\n",
       "      <th>2</th>\n",
       "      <td>-0.403237</td>\n",
       "      <td>-0.898710</td>\n",
       "      <td>1.247936</td>\n",
       "      <td>-1.672123</td>\n",
       "      <td>-0.245542</td>\n",
       "      <td>-0.058611</td>\n",
       "      <td>-0.191969</td>\n",
       "      <td>-0.078183</td>\n",
       "      <td>-0.30792</td>\n",
       "      <td>-0.154635</td>\n",
       "      <td>...</td>\n",
       "      <td>0</td>\n",
       "      <td>0</td>\n",
       "      <td>0</td>\n",
       "      <td>0</td>\n",
       "      <td>0</td>\n",
       "      <td>0</td>\n",
       "      <td>1</td>\n",
       "      <td>0</td>\n",
       "      <td>1</td>\n",
       "      <td>0</td>\n",
       "    </tr>\n",
       "    <tr>\n",
       "      <th>3</th>\n",
       "      <td>-0.159890</td>\n",
       "      <td>1.361231</td>\n",
       "      <td>1.247936</td>\n",
       "      <td>0.292478</td>\n",
       "      <td>-0.245542</td>\n",
       "      <td>-0.058611</td>\n",
       "      <td>-0.191969</td>\n",
       "      <td>-0.078183</td>\n",
       "      <td>-0.30792</td>\n",
       "      <td>-0.154635</td>\n",
       "      <td>...</td>\n",
       "      <td>0</td>\n",
       "      <td>0</td>\n",
       "      <td>0</td>\n",
       "      <td>0</td>\n",
       "      <td>0</td>\n",
       "      <td>0</td>\n",
       "      <td>1</td>\n",
       "      <td>0</td>\n",
       "      <td>1</td>\n",
       "      <td>0</td>\n",
       "    </tr>\n",
       "    <tr>\n",
       "      <th>4</th>\n",
       "      <td>-0.087787</td>\n",
       "      <td>-0.898710</td>\n",
       "      <td>-0.125608</td>\n",
       "      <td>0.292478</td>\n",
       "      <td>-0.245542</td>\n",
       "      <td>-0.058611</td>\n",
       "      <td>-0.191969</td>\n",
       "      <td>-0.078183</td>\n",
       "      <td>-0.30792</td>\n",
       "      <td>-0.154635</td>\n",
       "      <td>...</td>\n",
       "      <td>0</td>\n",
       "      <td>0</td>\n",
       "      <td>0</td>\n",
       "      <td>0</td>\n",
       "      <td>0</td>\n",
       "      <td>0</td>\n",
       "      <td>1</td>\n",
       "      <td>0</td>\n",
       "      <td>1</td>\n",
       "      <td>0</td>\n",
       "    </tr>\n",
       "  </tbody>\n",
       "</table>\n",
       "<p>5 rows × 733 columns</p>\n",
       "</div>"
      ],
      "text/plain": [
       "   LeadTime  StaysInWeekendNights  StaysInWeekNights    Adults  Children  \\\n",
       "0 -0.934996             -0.898710          -0.125608 -1.672123 -0.245542   \n",
       "1 -0.195941             -0.898710           1.247936  0.292478 -0.245542   \n",
       "2 -0.403237             -0.898710           1.247936 -1.672123 -0.245542   \n",
       "3 -0.159890              1.361231           1.247936  0.292478 -0.245542   \n",
       "4 -0.087787             -0.898710          -0.125608  0.292478 -0.245542   \n",
       "\n",
       "     Babies  PreviousCancellations  PreviousBookingsNotCanceled  \\\n",
       "0 -0.058611              -0.191969                    -0.078183   \n",
       "1 -0.058611              -0.191969                    -0.078183   \n",
       "2 -0.058611              -0.191969                    -0.078183   \n",
       "3 -0.058611              -0.191969                    -0.078183   \n",
       "4 -0.058611              -0.191969                    -0.078183   \n",
       "\n",
       "   BookingChanges  DaysInWaitingList  ...  Company_        486  \\\n",
       "0        -0.30792          -0.154635  ...                    0   \n",
       "1        -0.30792          -0.154635  ...                    0   \n",
       "2        -0.30792          -0.154635  ...                    0   \n",
       "3        -0.30792          -0.154635  ...                    0   \n",
       "4        -0.30792          -0.154635  ...                    0   \n",
       "\n",
       "   Company_        489  Company_        491  Company_        492  \\\n",
       "0                    0                    0                    0   \n",
       "1                    0                    0                    0   \n",
       "2                    0                    0                    0   \n",
       "3                    0                    0                    0   \n",
       "4                    0                    0                    0   \n",
       "\n",
       "   Company_        494  Company_        497  Company_       NULL  \\\n",
       "0                    0                    0                    1   \n",
       "1                    0                    0                    1   \n",
       "2                    0                    0                    1   \n",
       "3                    0                    0                    1   \n",
       "4                    0                    0                    1   \n",
       "\n",
       "   CustomerType_Group  CustomerType_Transient  CustomerType_Transient-Party  \n",
       "0                   0                       1                             0  \n",
       "1                   0                       1                             0  \n",
       "2                   0                       1                             0  \n",
       "3                   0                       1                             0  \n",
       "4                   0                       1                             0  \n",
       "\n",
       "[5 rows x 733 columns]"
      ]
     },
     "execution_count": 50,
     "metadata": {},
     "output_type": "execute_result"
    }
   ],
   "source": [
    "X_2 = X.drop(columns=num_features)\n",
    "scaler = StandardScaler()\n",
    "X_s = pd.DataFrame(scaler.fit_transform(X[num_features]))\n",
    "X_s.columns = num_features\n",
    "X_s = pd.concat([X_s, X_2], axis=1)\n",
    "X_s.head()\n"
   ]
  },
  {
   "cell_type": "code",
   "execution_count": 51,
   "metadata": {},
   "outputs": [],
   "source": [
    "# Standardscaler() mean is 0, std is -+1.\n",
    "X_train, X_test, y_train, y_test = train_test_split(X_scaled, \n",
    "                                                                                y, \n",
    "                                                                                test_size=0.25, \n",
    "                                                                                random_state=50)"
   ]
  },
  {
   "cell_type": "code",
   "execution_count": 52,
   "metadata": {},
   "outputs": [],
   "source": [
    "# To get 1) Confusion matrix, 2) accuracy, 3) precision and 4) recall\n",
    "def get_clf_eval(y_test, pred):\n",
    "    confusion =confusion_matrix(y_test, pred)\n",
    "    accuracy = accuracy_score(y_test, pred)\n",
    "    precision = precision_score(y_test, pred)\n",
    "    recall = recall_score(y_test, pred)\n",
    "    f1Score = f1_score(y_test, pred)\n",
    "    RocScore = roc_auc_score(y_test, pred)\n",
    "    print('Confusion matrix')\n",
    "    print(confusion)\n",
    "    print('accuracy: {0:.4f},precison: {1:.4f}, recall: {2:.4f}, f1Score: {3:.4f}, RocScore: {0:.4f}'.format(accuracy, precision, recall, f1Score, RocScore))"
   ]
  },
  {
   "cell_type": "markdown",
   "metadata": {},
   "source": [
    "# 4.1 Logistic Regession \n",
    "( L.Regression is very easy to use and it generally gived a good prediction)  \n",
    "Evaluation \n",
    "1) Accuracy, \n",
    "2) Precision \n",
    "3) Recall \n",
    "4) F1_Score\n",
    "5) Roc_Auc Score\n",
    "6) Confusion Matrix"
   ]
  },
  {
   "cell_type": "code",
   "execution_count": 53,
   "metadata": {},
   "outputs": [
    {
     "name": "stdout",
     "output_type": "stream",
     "text": [
      "Confusion matrix\n",
      "[[9707 1826]\n",
      " [3384 4909]]\n",
      "accuracy: 0.7372,precison: 0.7289, recall: 0.5919, f1Score: 0.6533, RocScore: 0.7372\n"
     ]
    }
   ],
   "source": [
    "# Train and Predict using Logistic Regression\n",
    "\n",
    "lr_clf = LogisticRegression()\n",
    "lr_clf.fit(X_train, y_train)\n",
    "lr_preds = lr_clf.predict(X_test)\n",
    "get_clf_eval(y_test, lr_preds)"
   ]
  },
  {
   "cell_type": "code",
   "execution_count": 54,
   "metadata": {},
   "outputs": [
    {
     "name": "stdout",
     "output_type": "stream",
     "text": [
      "Hyper-parameter:{'C': 0.01, 'penalty': 'l2'}, best acuracy:0.687234\n"
     ]
    }
   ],
   "source": [
    "params = {'penalty' : ['l2','l1'], 'C': [0.01,0.1,0.5,0.9]}\n",
    "grid_clf = GridSearchCV(lr_clf, param_grid=params, scoring = 'accuracy', cv =3)\n",
    "grid_clf.fit(X_scaled, y)\n",
    "print('Hyper-parameter:{0}, best acuracy:{1:3f}'.format(grid_clf.best_params_,grid_clf.best_score_))"
   ]
  },
  {
   "cell_type": "code",
   "execution_count": 55,
   "metadata": {
    "scrolled": false
   },
   "outputs": [
    {
     "data": {
      "text/plain": [
       "<function matplotlib.pyplot.colorbar(mappable=None, cax=None, ax=None, **kw)>"
      ]
     },
     "execution_count": 55,
     "metadata": {},
     "output_type": "execute_result"
    },
    {
     "data": {
      "image/png": "[encoded data removed]",
      "text/plain": [
       "<Figure size 432x432 with 1 Axes>"
      ]
     },
     "metadata": {
      "needs_background": "light"
     },
     "output_type": "display_data"
    }
   ],
   "source": [
    "# CONFUSION MATRIX Visualisation  \n",
    "cnf_matrix = confusion_matrix(y_test,lr_preds)\n",
    "        \n",
    "plt.figure(figsize=(6,6))\n",
    "plt.imshow(cnf_matrix, cmap=plt.cm.Greens)\n",
    "        \n",
    "plt.title('Confusion Matrix')\n",
    "plt.ylabel('True label')\n",
    "plt.xlabel('Predicted label')\n",
    "\n",
    "class_names = set(y)\n",
    "tick_marks = np.arange(len(class_names))\n",
    "plt.xticks(tick_marks, class_names, rotation=45)\n",
    "plt.yticks(tick_marks, class_names)\n",
    "\n",
    "thresh = cnf_matrix.max() / 2.\n",
    "for i, j in itertools.product(range(cnf_matrix.shape[0]), range(cnf_matrix.shape[1])):\n",
    "        plt.text(j, i, cnf_matrix[i, j],horizontalalignment='center')\n",
    "plt.colorbar"
   ]
  },
  {
   "cell_type": "code",
   "execution_count": 56,
   "metadata": {},
   "outputs": [],
   "source": [
    "def get_eval_by_threshold(y_test, pred_proba_c1,thresholds):\n",
    "    for custom_threshold in thresholds:\n",
    "        binarizer = Binarizer(threshold=custom_threshold).fit(pred_proba_c1)\n",
    "        custom_predict = binarizer.transform(pred_proba_c1)\n",
    "        print('threshold:', custom_threshold)\n",
    "        get_clf_eval(y_test, custom_predict)\n"
   ]
  },
  {
   "cell_type": "code",
   "execution_count": 57,
   "metadata": {},
   "outputs": [
    {
     "name": "stdout",
     "output_type": "stream",
     "text": [
      "threshold: 0.4\n",
      "Confusion matrix\n",
      "[[7899 3634]\n",
      " [1939 6354]]\n",
      "accuracy: 0.7189,precison: 0.6362, recall: 0.7662, f1Score: 0.6951, RocScore: 0.7189\n",
      "threshold: 0.45\n",
      "Confusion matrix\n",
      "[[8949 2584]\n",
      " [2685 5608]]\n",
      "accuracy: 0.7342,precison: 0.6846, recall: 0.6762, f1Score: 0.6804, RocScore: 0.7342\n",
      "threshold: 0.5\n",
      "Confusion matrix\n",
      "[[9707 1826]\n",
      " [3384 4909]]\n",
      "accuracy: 0.7372,precison: 0.7289, recall: 0.5919, f1Score: 0.6533, RocScore: 0.7372\n",
      "threshold: 0.55\n",
      "Confusion matrix\n",
      "[[10266  1267]\n",
      " [ 4050  4243]]\n",
      "accuracy: 0.7318,precison: 0.7701, recall: 0.5116, f1Score: 0.6148, RocScore: 0.7318\n",
      "threshold: 0.6\n",
      "Confusion matrix\n",
      "[[10720   813]\n",
      " [ 4710  3583]]\n",
      "accuracy: 0.7214,precison: 0.8151, recall: 0.4321, f1Score: 0.5647, RocScore: 0.7214\n"
     ]
    }
   ],
   "source": [
    "thresholds = [0.4,0.45,0.50,0.55,0.60]\n",
    "pred_proba = lr_clf.predict_proba(X_test)\n",
    "get_eval_by_threshold(y_test, pred_proba[:,1].reshape(-1,1), thresholds)"
   ]
  },
  {
   "cell_type": "markdown",
   "metadata": {},
   "source": [
    "# 4.2 DecisionTree"
   ]
  },
  {
   "cell_type": "code",
   "execution_count": null,
   "metadata": {},
   "outputs": [],
   "source": []
  },
  {
   "cell_type": "code",
   "execution_count": null,
   "metadata": {},
   "outputs": [],
   "source": []
  },
  {
   "cell_type": "code",
   "execution_count": null,
   "metadata": {},
   "outputs": [],
   "source": []
  },
  {
   "cell_type": "code",
   "execution_count": null,
   "metadata": {},
   "outputs": [],
   "source": []
  },
  {
   "cell_type": "code",
   "execution_count": null,
   "metadata": {},
   "outputs": [],
   "source": []
  },
  {
   "cell_type": "markdown",
   "metadata": {},
   "source": [
    "# 3. Ensemble Model \n",
    "1) Voting\n",
    "2) XGBoost\n",
    "3) Stacking"
   ]
  },
  {
   "cell_type": "code",
   "execution_count": 40,
   "metadata": {},
   "outputs": [],
   "source": [
    "knn_clf = KNeighborsClassifier(n_neighbors =8)"
   ]
  },
  {
   "cell_type": "code",
   "execution_count": 41,
   "metadata": {},
   "outputs": [],
   "source": [
    "#soft voting\n",
    "vo_clf = VotingClassifier(estimators= [('LR', lr_clf),('KNN', knn_clf)], voting ='soft')"
   ]
  },
  {
   "cell_type": "code",
   "execution_count": 42,
   "metadata": {},
   "outputs": [
    {
     "name": "stdout",
     "output_type": "stream",
     "text": [
      "Voting: 0.8128\n"
     ]
    }
   ],
   "source": [
    "#VotingClassifier train/pred/Test\n",
    "vo_clf.fit(X_train, y_train)\n",
    "pred = vo_clf.predict(X_test)\n",
    "print('Voting: {0:.4f}'.format(accuracy_score(y_test, pred)))"
   ]
  },
  {
   "cell_type": "code",
   "execution_count": 48,
   "metadata": {},
   "outputs": [
    {
     "ename": "AttributeError",
     "evalue": "'LogisticRegression' object has no attribute '_class_'",
     "output_type": "error",
     "traceback": [
      "\u001b[1;31m---------------------------------------------------------------------------\u001b[0m",
      "\u001b[1;31mAttributeError\u001b[0m                            Traceback (most recent call last)",
      "\u001b[1;32m<ipython-input-48-67a611b8512e>\u001b[0m in \u001b[0;36m<module>\u001b[1;34m\u001b[0m\n\u001b[0;32m      3\u001b[0m     \u001b[0mclassifier\u001b[0m\u001b[1;33m.\u001b[0m\u001b[0mfit\u001b[0m\u001b[1;33m(\u001b[0m\u001b[0mX_train\u001b[0m\u001b[1;33m,\u001b[0m \u001b[0my_train\u001b[0m\u001b[1;33m)\u001b[0m\u001b[1;33m\u001b[0m\u001b[1;33m\u001b[0m\u001b[0m\n\u001b[0;32m      4\u001b[0m     \u001b[0mpred\u001b[0m\u001b[1;33m=\u001b[0m\u001b[0mclassifier\u001b[0m\u001b[1;33m.\u001b[0m\u001b[0mpredict\u001b[0m\u001b[1;33m(\u001b[0m\u001b[0mX_test\u001b[0m\u001b[1;33m)\u001b[0m\u001b[1;33m\u001b[0m\u001b[1;33m\u001b[0m\u001b[0m\n\u001b[1;32m----> 5\u001b[1;33m     \u001b[0mclass_name\u001b[0m\u001b[1;33m=\u001b[0m\u001b[0mclassifier\u001b[0m\u001b[1;33m.\u001b[0m\u001b[0m_class_\u001b[0m\u001b[1;33m.\u001b[0m\u001b[0m_name_\u001b[0m\u001b[1;33m\u001b[0m\u001b[1;33m\u001b[0m\u001b[0m\n\u001b[0m",
      "\u001b[1;31mAttributeError\u001b[0m: 'LogisticRegression' object has no attribute '_class_'"
     ]
    }
   ],
   "source": [
    "classifiers = [lr_clf,knn_clf]\n",
    "for classifier in classifiers:\n",
    "    classifier.fit(X_train, y_train)\n",
    "    pred=classifier.predict(X_test)\n",
    "    class_name=classifier."
   ]
  },
  {
   "cell_type": "code",
   "execution_count": null,
   "metadata": {},
   "outputs": [],
   "source": []
  },
  {
   "cell_type": "code",
   "execution_count": null,
   "metadata": {},
   "outputs": [],
   "source": []
  },
  {
   "cell_type": "markdown",
   "metadata": {
    "Collapsed": "false"
   },
   "source": [
    "## 4.3. Model Creation"
   ]
  },
  {
   "cell_type": "code",
   "execution_count": null,
   "metadata": {},
   "outputs": [],
   "source": []
  },
  {
   "cell_type": "code",
   "execution_count": null,
   "metadata": {},
   "outputs": [],
   "source": []
  },
  {
   "cell_type": "code",
   "execution_count": null,
   "metadata": {},
   "outputs": [],
   "source": [
    "1. Logistic Regression\n",
    "2. Nearest Neighbor\n",
    "3. Support Vector Machines\n",
    "4. Kernel SVM\n",
    "5. Naïve Bayes\n",
    "6. Decision Tree Algorithm\n",
    "7. Random Forest Classification\n",
    "8. Boost"
   ]
  },
  {
   "cell_type": "code",
   "execution_count": null,
   "metadata": {},
   "outputs": [],
   "source": [
    "#Using Logistic Regression Algorithm to the Training Set\n",
    "from sklearn.linear_model import LogisticRegression\n",
    "classifier = LogisticRegression(random_state = 0)\n",
    "classifier.fit(X_train, Y_train)\n",
    "#Using KNeighborsClassifier Method of neighbors class to use Nearest Neighbor algorithm\n",
    "from sklearn.neighbors import KNeighborsClassifier\n",
    "classifier = KNeighborsClassifier(n_neighbors = 5, metric = 'minkowski', p = 2)\n",
    "classifier.fit(X_train, Y_train)\n",
    "#Using SVC method of svm class to use Support Vector Machine Algorithm\n",
    "from sklearn.svm import SVC\n",
    "classifier = SVC(kernel = 'linear', random_state = 0)\n",
    "classifier.fit(X_train, Y_train)\n",
    "#Using SVC method of svm class to use Kernel SVM Algorithm\n",
    "from sklearn.svm import SVC\n",
    "classifier = SVC(kernel = 'rbf', random_state = 0)\n",
    "classifier.fit(X_train, Y_train)\n",
    "#Using GaussianNB method of naïve_bayes class to use Naïve Bayes Algorithm\n",
    "from sklearn.naive_bayes import GaussianNB\n",
    "classifier = GaussianNB()\n",
    "classifier.fit(X_train, Y_train)\n",
    "#Using DecisionTreeClassifier of tree class to use Decision Tree Algorithm\n",
    "\n",
    "from sklearn.tree import DecisionTreeClassifier\n",
    "classifier = DecisionTreeClassifier(criterion = 'entropy', random_state = 0)\n",
    "classifier.fit(X_train, Y_train)\n",
    "\n",
    "#Using RandomForestClassifier method of ensemble class to use Random Forest Classification algorithm\n",
    "\n",
    "from sklearn.ensemble import RandomForestbClassifier\n",
    "classifier = RandomForestClassifier(n_estimators = 10, criterion = 'entropy', random_state = 0)\n",
    "classifier.fit(X_train, Y_train)"
   ]
  },
  {
   "cell_type": "markdown",
   "metadata": {},
   "source": [
    "# XGboost"
   ]
  },
  {
   "cell_type": "code",
   "execution_count": 60,
   "metadata": {},
   "outputs": [],
   "source": [
    "dtrain = xgb.DMatrix(data=X_train, label = y_train)\n",
    "dtest = xgb.DMatrix(data =X_test, label = y_test)"
   ]
  },
  {
   "cell_type": "code",
   "execution_count": 61,
   "metadata": {},
   "outputs": [],
   "source": [
    "params = {'max_depth':3,\n",
    "          'eta':0.1, \n",
    "          'objective':'binary:logistic',\n",
    "          'eval_metric':'logloss',\n",
    "          'early_stoppings':100}\n",
    "num_rounds = 400"
   ]
  },
  {
   "cell_type": "code",
   "execution_count": 62,
   "metadata": {},
   "outputs": [
    {
     "name": "stdout",
     "output_type": "stream",
     "text": [
      "[14:02:55] WARNING: C:\\Users\\Administrator\\workspace\\xgboost-win64_release_1.0.0\\src\\learner.cc:328: \n",
      "Parameters: { early_stoppings } might not be used.\n",
      "\n",
      "  This may not be accurate due to some parameters are only used in language bindings but\n",
      "  passed down to XGBoost core.  Or some parameters are not used but slip through this\n",
      "  verification. Please open an issue if you find above cases.\n",
      "\n",
      "\n",
      "[0]\ttrain-logloss:0.66891\ttest-logloss:0.66871\n",
      "[1]\ttrain-logloss:0.64904\ttest-logloss:0.64894\n",
      "[2]\ttrain-logloss:0.63162\ttest-logloss:0.63126\n",
      "[3]\ttrain-logloss:0.61709\ttest-logloss:0.61653\n",
      "[4]\ttrain-logloss:0.60449\ttest-logloss:0.60390\n",
      "[5]\ttrain-logloss:0.59373\ttest-logloss:0.59327\n",
      "[6]\ttrain-logloss:0.58455\ttest-logloss:0.58405\n",
      "[7]\ttrain-logloss:0.57659\ttest-logloss:0.57624\n",
      "[8]\ttrain-logloss:0.56971\ttest-logloss:0.56920\n",
      "[9]\ttrain-logloss:0.56298\ttest-logloss:0.56231\n",
      "[10]\ttrain-logloss:0.55756\ttest-logloss:0.55685\n",
      "[11]\ttrain-logloss:0.55231\ttest-logloss:0.55154\n",
      "[12]\ttrain-logloss:0.54774\ttest-logloss:0.54681\n",
      "[13]\ttrain-logloss:0.54369\ttest-logloss:0.54281\n",
      "[14]\ttrain-logloss:0.54026\ttest-logloss:0.53929\n",
      "[15]\ttrain-logloss:0.53591\ttest-logloss:0.53500\n",
      "[16]\ttrain-logloss:0.53298\ttest-logloss:0.53199\n",
      "[17]\ttrain-logloss:0.52982\ttest-logloss:0.52876\n",
      "[18]\ttrain-logloss:0.52738\ttest-logloss:0.52645\n",
      "[19]\ttrain-logloss:0.52426\ttest-logloss:0.52325\n",
      "[20]\ttrain-logloss:0.52211\ttest-logloss:0.52099\n",
      "[21]\ttrain-logloss:0.51974\ttest-logloss:0.51857\n",
      "[22]\ttrain-logloss:0.51792\ttest-logloss:0.51683\n",
      "[23]\ttrain-logloss:0.51621\ttest-logloss:0.51508\n",
      "[24]\ttrain-logloss:0.51373\ttest-logloss:0.51243\n",
      "[25]\ttrain-logloss:0.51191\ttest-logloss:0.51059\n",
      "[26]\ttrain-logloss:0.51050\ttest-logloss:0.50911\n",
      "[27]\ttrain-logloss:0.50920\ttest-logloss:0.50783\n",
      "[28]\ttrain-logloss:0.50746\ttest-logloss:0.50600\n",
      "[29]\ttrain-logloss:0.50629\ttest-logloss:0.50486\n",
      "[30]\ttrain-logloss:0.50489\ttest-logloss:0.50349\n",
      "[31]\ttrain-logloss:0.50387\ttest-logloss:0.50242\n",
      "[32]\ttrain-logloss:0.50296\ttest-logloss:0.50153\n",
      "[33]\ttrain-logloss:0.50147\ttest-logloss:0.50000\n",
      "[34]\ttrain-logloss:0.50040\ttest-logloss:0.49895\n",
      "[35]\ttrain-logloss:0.49959\ttest-logloss:0.49809\n",
      "[36]\ttrain-logloss:0.49886\ttest-logloss:0.49738\n",
      "[37]\ttrain-logloss:0.49795\ttest-logloss:0.49650\n",
      "[38]\ttrain-logloss:0.49700\ttest-logloss:0.49556\n",
      "[39]\ttrain-logloss:0.49623\ttest-logloss:0.49475\n",
      "[40]\ttrain-logloss:0.49563\ttest-logloss:0.49417\n",
      "[41]\ttrain-logloss:0.49495\ttest-logloss:0.49339\n",
      "[42]\ttrain-logloss:0.49442\ttest-logloss:0.49288\n",
      "[43]\ttrain-logloss:0.49380\ttest-logloss:0.49220\n",
      "[44]\ttrain-logloss:0.49329\ttest-logloss:0.49170\n",
      "[45]\ttrain-logloss:0.49224\ttest-logloss:0.49064\n",
      "[46]\ttrain-logloss:0.49182\ttest-logloss:0.49018\n",
      "[47]\ttrain-logloss:0.49086\ttest-logloss:0.48928\n",
      "[48]\ttrain-logloss:0.49047\ttest-logloss:0.48889\n",
      "[49]\ttrain-logloss:0.48980\ttest-logloss:0.48815\n",
      "[50]\ttrain-logloss:0.48945\ttest-logloss:0.48782\n",
      "[51]\ttrain-logloss:0.48878\ttest-logloss:0.48710\n",
      "[52]\ttrain-logloss:0.48822\ttest-logloss:0.48653\n",
      "[53]\ttrain-logloss:0.48791\ttest-logloss:0.48621\n",
      "[54]\ttrain-logloss:0.48755\ttest-logloss:0.48578\n",
      "[55]\ttrain-logloss:0.48705\ttest-logloss:0.48526\n",
      "[56]\ttrain-logloss:0.48662\ttest-logloss:0.48489\n",
      "[57]\ttrain-logloss:0.48630\ttest-logloss:0.48451\n",
      "[58]\ttrain-logloss:0.48591\ttest-logloss:0.48413\n",
      "[59]\ttrain-logloss:0.48538\ttest-logloss:0.48364\n",
      "[60]\ttrain-logloss:0.48514\ttest-logloss:0.48337\n",
      "[61]\ttrain-logloss:0.48472\ttest-logloss:0.48296\n",
      "[62]\ttrain-logloss:0.48426\ttest-logloss:0.48252\n",
      "[63]\ttrain-logloss:0.48397\ttest-logloss:0.48219\n",
      "[64]\ttrain-logloss:0.48361\ttest-logloss:0.48181\n",
      "[65]\ttrain-logloss:0.48335\ttest-logloss:0.48160\n",
      "[66]\ttrain-logloss:0.48314\ttest-logloss:0.48146\n",
      "[67]\ttrain-logloss:0.48290\ttest-logloss:0.48117\n",
      "[68]\ttrain-logloss:0.48260\ttest-logloss:0.48084\n",
      "[69]\ttrain-logloss:0.48238\ttest-logloss:0.48059\n",
      "[70]\ttrain-logloss:0.48206\ttest-logloss:0.48024\n",
      "[71]\ttrain-logloss:0.48183\ttest-logloss:0.48003\n",
      "[72]\ttrain-logloss:0.48149\ttest-logloss:0.47969\n",
      "[73]\ttrain-logloss:0.48133\ttest-logloss:0.47955\n",
      "[74]\ttrain-logloss:0.48114\ttest-logloss:0.47941\n",
      "[75]\ttrain-logloss:0.48095\ttest-logloss:0.47922\n",
      "[76]\ttrain-logloss:0.48077\ttest-logloss:0.47902\n",
      "[77]\ttrain-logloss:0.48025\ttest-logloss:0.47849\n",
      "[78]\ttrain-logloss:0.48002\ttest-logloss:0.47828\n",
      "[79]\ttrain-logloss:0.47964\ttest-logloss:0.47789\n",
      "[80]\ttrain-logloss:0.47948\ttest-logloss:0.47770\n",
      "[81]\ttrain-logloss:0.47936\ttest-logloss:0.47762\n",
      "[82]\ttrain-logloss:0.47900\ttest-logloss:0.47726\n",
      "[83]\ttrain-logloss:0.47833\ttest-logloss:0.47656\n",
      "[84]\ttrain-logloss:0.47820\ttest-logloss:0.47643\n",
      "[85]\ttrain-logloss:0.47779\ttest-logloss:0.47601\n",
      "[86]\ttrain-logloss:0.47763\ttest-logloss:0.47588\n",
      "[87]\ttrain-logloss:0.47753\ttest-logloss:0.47578\n",
      "[88]\ttrain-logloss:0.47738\ttest-logloss:0.47562\n",
      "[89]\ttrain-logloss:0.47707\ttest-logloss:0.47524\n",
      "[90]\ttrain-logloss:0.47695\ttest-logloss:0.47514\n",
      "[91]\ttrain-logloss:0.47686\ttest-logloss:0.47506\n",
      "[92]\ttrain-logloss:0.47648\ttest-logloss:0.47470\n",
      "[93]\ttrain-logloss:0.47614\ttest-logloss:0.47437\n",
      "[94]\ttrain-logloss:0.47597\ttest-logloss:0.47421\n",
      "[95]\ttrain-logloss:0.47585\ttest-logloss:0.47405\n",
      "[96]\ttrain-logloss:0.47574\ttest-logloss:0.47396\n",
      "[97]\ttrain-logloss:0.47564\ttest-logloss:0.47393\n",
      "[98]\ttrain-logloss:0.47556\ttest-logloss:0.47385\n",
      "[99]\ttrain-logloss:0.47528\ttest-logloss:0.47352\n",
      "[100]\ttrain-logloss:0.47511\ttest-logloss:0.47341\n",
      "[101]\ttrain-logloss:0.47503\ttest-logloss:0.47337\n",
      "[102]\ttrain-logloss:0.47489\ttest-logloss:0.47323\n",
      "[103]\ttrain-logloss:0.47477\ttest-logloss:0.47318\n",
      "[104]\ttrain-logloss:0.47473\ttest-logloss:0.47313\n",
      "[105]\ttrain-logloss:0.47459\ttest-logloss:0.47304\n",
      "[106]\ttrain-logloss:0.47443\ttest-logloss:0.47291\n",
      "[107]\ttrain-logloss:0.47438\ttest-logloss:0.47287\n",
      "[108]\ttrain-logloss:0.47406\ttest-logloss:0.47258\n",
      "[109]\ttrain-logloss:0.47382\ttest-logloss:0.47234\n",
      "[110]\ttrain-logloss:0.47370\ttest-logloss:0.47226\n",
      "[111]\ttrain-logloss:0.47346\ttest-logloss:0.47197\n",
      "[112]\ttrain-logloss:0.47336\ttest-logloss:0.47194\n",
      "[113]\ttrain-logloss:0.47331\ttest-logloss:0.47188\n",
      "[114]\ttrain-logloss:0.47317\ttest-logloss:0.47178\n",
      "[115]\ttrain-logloss:0.47305\ttest-logloss:0.47166\n",
      "[116]\ttrain-logloss:0.47278\ttest-logloss:0.47141\n",
      "[117]\ttrain-logloss:0.47236\ttest-logloss:0.47092\n",
      "[118]\ttrain-logloss:0.47231\ttest-logloss:0.47089\n",
      "[119]\ttrain-logloss:0.47214\ttest-logloss:0.47074\n",
      "[120]\ttrain-logloss:0.47208\ttest-logloss:0.47068\n",
      "[121]\ttrain-logloss:0.47171\ttest-logloss:0.47026\n",
      "[122]\ttrain-logloss:0.47155\ttest-logloss:0.47010\n",
      "[123]\ttrain-logloss:0.47114\ttest-logloss:0.46972\n",
      "[124]\ttrain-logloss:0.47073\ttest-logloss:0.46940\n",
      "[125]\ttrain-logloss:0.47048\ttest-logloss:0.46915\n",
      "[126]\ttrain-logloss:0.47029\ttest-logloss:0.46898\n",
      "[127]\ttrain-logloss:0.47021\ttest-logloss:0.46895\n",
      "[128]\ttrain-logloss:0.47008\ttest-logloss:0.46880\n",
      "[129]\ttrain-logloss:0.47003\ttest-logloss:0.46878\n",
      "[130]\ttrain-logloss:0.46949\ttest-logloss:0.46830\n",
      "[131]\ttrain-logloss:0.46929\ttest-logloss:0.46810\n",
      "[132]\ttrain-logloss:0.46918\ttest-logloss:0.46796\n",
      "[133]\ttrain-logloss:0.46883\ttest-logloss:0.46768\n",
      "[134]\ttrain-logloss:0.46866\ttest-logloss:0.46752\n",
      "[135]\ttrain-logloss:0.46847\ttest-logloss:0.46730\n",
      "[136]\ttrain-logloss:0.46803\ttest-logloss:0.46695\n",
      "[137]\ttrain-logloss:0.46774\ttest-logloss:0.46677\n",
      "[138]\ttrain-logloss:0.46764\ttest-logloss:0.46668\n",
      "[139]\ttrain-logloss:0.46742\ttest-logloss:0.46644\n",
      "[140]\ttrain-logloss:0.46706\ttest-logloss:0.46608\n",
      "[141]\ttrain-logloss:0.46688\ttest-logloss:0.46592\n",
      "[142]\ttrain-logloss:0.46674\ttest-logloss:0.46582\n",
      "[143]\ttrain-logloss:0.46670\ttest-logloss:0.46578\n",
      "[144]\ttrain-logloss:0.46653\ttest-logloss:0.46562\n",
      "[145]\ttrain-logloss:0.46623\ttest-logloss:0.46533\n",
      "[146]\ttrain-logloss:0.46614\ttest-logloss:0.46524\n",
      "[147]\ttrain-logloss:0.46590\ttest-logloss:0.46496\n",
      "[148]\ttrain-logloss:0.46586\ttest-logloss:0.46492\n",
      "[149]\ttrain-logloss:0.46580\ttest-logloss:0.46491\n",
      "[150]\ttrain-logloss:0.46573\ttest-logloss:0.46489\n",
      "[151]\ttrain-logloss:0.46567\ttest-logloss:0.46481\n",
      "[152]\ttrain-logloss:0.46510\ttest-logloss:0.46433\n",
      "[153]\ttrain-logloss:0.46488\ttest-logloss:0.46411\n",
      "[154]\ttrain-logloss:0.46475\ttest-logloss:0.46398\n",
      "[155]\ttrain-logloss:0.46460\ttest-logloss:0.46386\n",
      "[156]\ttrain-logloss:0.46450\ttest-logloss:0.46382\n",
      "[157]\ttrain-logloss:0.46444\ttest-logloss:0.46376\n",
      "[158]\ttrain-logloss:0.46436\ttest-logloss:0.46375\n",
      "[159]\ttrain-logloss:0.46426\ttest-logloss:0.46373\n",
      "[160]\ttrain-logloss:0.46414\ttest-logloss:0.46363\n",
      "[161]\ttrain-logloss:0.46407\ttest-logloss:0.46355\n"
     ]
    },
    {
     "name": "stdout",
     "output_type": "stream",
     "text": [
      "[162]\ttrain-logloss:0.46404\ttest-logloss:0.46352\n",
      "[163]\ttrain-logloss:0.46390\ttest-logloss:0.46339\n",
      "[164]\ttrain-logloss:0.46343\ttest-logloss:0.46298\n",
      "[165]\ttrain-logloss:0.46331\ttest-logloss:0.46287\n",
      "[166]\ttrain-logloss:0.46327\ttest-logloss:0.46287\n",
      "[167]\ttrain-logloss:0.46323\ttest-logloss:0.46286\n",
      "[168]\ttrain-logloss:0.46293\ttest-logloss:0.46255\n",
      "[169]\ttrain-logloss:0.46264\ttest-logloss:0.46226\n",
      "[170]\ttrain-logloss:0.46247\ttest-logloss:0.46207\n",
      "[171]\ttrain-logloss:0.46238\ttest-logloss:0.46196\n",
      "[172]\ttrain-logloss:0.46226\ttest-logloss:0.46184\n",
      "[173]\ttrain-logloss:0.46209\ttest-logloss:0.46170\n",
      "[174]\ttrain-logloss:0.46196\ttest-logloss:0.46160\n",
      "[175]\ttrain-logloss:0.46187\ttest-logloss:0.46153\n",
      "[176]\ttrain-logloss:0.46184\ttest-logloss:0.46152\n",
      "[177]\ttrain-logloss:0.46166\ttest-logloss:0.46134\n",
      "[178]\ttrain-logloss:0.46156\ttest-logloss:0.46127\n",
      "[179]\ttrain-logloss:0.46141\ttest-logloss:0.46113\n",
      "[180]\ttrain-logloss:0.46133\ttest-logloss:0.46109\n",
      "[181]\ttrain-logloss:0.46130\ttest-logloss:0.46109\n",
      "[182]\ttrain-logloss:0.46119\ttest-logloss:0.46102\n",
      "[183]\ttrain-logloss:0.46086\ttest-logloss:0.46066\n",
      "[184]\ttrain-logloss:0.46055\ttest-logloss:0.46039\n",
      "[185]\ttrain-logloss:0.46046\ttest-logloss:0.46029\n",
      "[186]\ttrain-logloss:0.46042\ttest-logloss:0.46028\n",
      "[187]\ttrain-logloss:0.46041\ttest-logloss:0.46025\n",
      "[188]\ttrain-logloss:0.46013\ttest-logloss:0.45993\n",
      "[189]\ttrain-logloss:0.45981\ttest-logloss:0.45967\n",
      "[190]\ttrain-logloss:0.45976\ttest-logloss:0.45964\n",
      "[191]\ttrain-logloss:0.45960\ttest-logloss:0.45949\n",
      "[192]\ttrain-logloss:0.45951\ttest-logloss:0.45940\n",
      "[193]\ttrain-logloss:0.45948\ttest-logloss:0.45938\n",
      "[194]\ttrain-logloss:0.45933\ttest-logloss:0.45925\n",
      "[195]\ttrain-logloss:0.45908\ttest-logloss:0.45898\n",
      "[196]\ttrain-logloss:0.45891\ttest-logloss:0.45884\n",
      "[197]\ttrain-logloss:0.45875\ttest-logloss:0.45866\n",
      "[198]\ttrain-logloss:0.45853\ttest-logloss:0.45846\n",
      "[199]\ttrain-logloss:0.45819\ttest-logloss:0.45815\n",
      "[200]\ttrain-logloss:0.45808\ttest-logloss:0.45803\n",
      "[201]\ttrain-logloss:0.45802\ttest-logloss:0.45797\n",
      "[202]\ttrain-logloss:0.45789\ttest-logloss:0.45785\n",
      "[203]\ttrain-logloss:0.45779\ttest-logloss:0.45782\n",
      "[204]\ttrain-logloss:0.45776\ttest-logloss:0.45783\n",
      "[205]\ttrain-logloss:0.45771\ttest-logloss:0.45778\n",
      "[206]\ttrain-logloss:0.45769\ttest-logloss:0.45776\n",
      "[207]\ttrain-logloss:0.45742\ttest-logloss:0.45745\n",
      "[208]\ttrain-logloss:0.45736\ttest-logloss:0.45736\n",
      "[209]\ttrain-logloss:0.45726\ttest-logloss:0.45728\n",
      "[210]\ttrain-logloss:0.45708\ttest-logloss:0.45712\n",
      "[211]\ttrain-logloss:0.45697\ttest-logloss:0.45699\n",
      "[212]\ttrain-logloss:0.45687\ttest-logloss:0.45691\n",
      "[213]\ttrain-logloss:0.45659\ttest-logloss:0.45667\n",
      "[214]\ttrain-logloss:0.45656\ttest-logloss:0.45667\n",
      "[215]\ttrain-logloss:0.45649\ttest-logloss:0.45662\n",
      "[216]\ttrain-logloss:0.45619\ttest-logloss:0.45627\n",
      "[217]\ttrain-logloss:0.45600\ttest-logloss:0.45609\n",
      "[218]\ttrain-logloss:0.45580\ttest-logloss:0.45590\n",
      "[219]\ttrain-logloss:0.45556\ttest-logloss:0.45569\n",
      "[220]\ttrain-logloss:0.45548\ttest-logloss:0.45559\n",
      "[221]\ttrain-logloss:0.45497\ttest-logloss:0.45518\n",
      "[222]\ttrain-logloss:0.45487\ttest-logloss:0.45509\n",
      "[223]\ttrain-logloss:0.45484\ttest-logloss:0.45506\n",
      "[224]\ttrain-logloss:0.45466\ttest-logloss:0.45488\n",
      "[225]\ttrain-logloss:0.45458\ttest-logloss:0.45481\n",
      "[226]\ttrain-logloss:0.45452\ttest-logloss:0.45475\n",
      "[227]\ttrain-logloss:0.45439\ttest-logloss:0.45459\n",
      "[228]\ttrain-logloss:0.45433\ttest-logloss:0.45458\n",
      "[229]\ttrain-logloss:0.45423\ttest-logloss:0.45452\n",
      "[230]\ttrain-logloss:0.45420\ttest-logloss:0.45450\n",
      "[231]\ttrain-logloss:0.45414\ttest-logloss:0.45448\n",
      "[232]\ttrain-logloss:0.45401\ttest-logloss:0.45439\n",
      "[233]\ttrain-logloss:0.45391\ttest-logloss:0.45427\n",
      "[234]\ttrain-logloss:0.45389\ttest-logloss:0.45426\n",
      "[235]\ttrain-logloss:0.45386\ttest-logloss:0.45427\n",
      "[236]\ttrain-logloss:0.45376\ttest-logloss:0.45420\n",
      "[237]\ttrain-logloss:0.45348\ttest-logloss:0.45391\n",
      "[238]\ttrain-logloss:0.45347\ttest-logloss:0.45389\n",
      "[239]\ttrain-logloss:0.45341\ttest-logloss:0.45385\n",
      "[240]\ttrain-logloss:0.45319\ttest-logloss:0.45359\n",
      "[241]\ttrain-logloss:0.45305\ttest-logloss:0.45346\n",
      "[242]\ttrain-logloss:0.45281\ttest-logloss:0.45318\n",
      "[243]\ttrain-logloss:0.45259\ttest-logloss:0.45297\n",
      "[244]\ttrain-logloss:0.45237\ttest-logloss:0.45274\n",
      "[245]\ttrain-logloss:0.45232\ttest-logloss:0.45271\n",
      "[246]\ttrain-logloss:0.45226\ttest-logloss:0.45269\n",
      "[247]\ttrain-logloss:0.45214\ttest-logloss:0.45258\n",
      "[248]\ttrain-logloss:0.45208\ttest-logloss:0.45253\n",
      "[249]\ttrain-logloss:0.45200\ttest-logloss:0.45250\n",
      "[250]\ttrain-logloss:0.45193\ttest-logloss:0.45242\n",
      "[251]\ttrain-logloss:0.45189\ttest-logloss:0.45241\n",
      "[252]\ttrain-logloss:0.45183\ttest-logloss:0.45236\n",
      "[253]\ttrain-logloss:0.45176\ttest-logloss:0.45230\n",
      "[254]\ttrain-logloss:0.45160\ttest-logloss:0.45217\n",
      "[255]\ttrain-logloss:0.45150\ttest-logloss:0.45210\n",
      "[256]\ttrain-logloss:0.45133\ttest-logloss:0.45195\n",
      "[257]\ttrain-logloss:0.45104\ttest-logloss:0.45162\n",
      "[258]\ttrain-logloss:0.45102\ttest-logloss:0.45161\n",
      "[259]\ttrain-logloss:0.45095\ttest-logloss:0.45158\n",
      "[260]\ttrain-logloss:0.45093\ttest-logloss:0.45156\n",
      "[261]\ttrain-logloss:0.45075\ttest-logloss:0.45142\n",
      "[262]\ttrain-logloss:0.45057\ttest-logloss:0.45122\n",
      "[263]\ttrain-logloss:0.45053\ttest-logloss:0.45119\n",
      "[264]\ttrain-logloss:0.45036\ttest-logloss:0.45097\n",
      "[265]\ttrain-logloss:0.45020\ttest-logloss:0.45081\n",
      "[266]\ttrain-logloss:0.45013\ttest-logloss:0.45076\n",
      "[267]\ttrain-logloss:0.45008\ttest-logloss:0.45070\n",
      "[268]\ttrain-logloss:0.44998\ttest-logloss:0.45061\n",
      "[269]\ttrain-logloss:0.44993\ttest-logloss:0.45057\n",
      "[270]\ttrain-logloss:0.44990\ttest-logloss:0.45057\n",
      "[271]\ttrain-logloss:0.44988\ttest-logloss:0.45055\n",
      "[272]\ttrain-logloss:0.44983\ttest-logloss:0.45050\n",
      "[273]\ttrain-logloss:0.44977\ttest-logloss:0.45042\n",
      "[274]\ttrain-logloss:0.44964\ttest-logloss:0.45033\n",
      "[275]\ttrain-logloss:0.44950\ttest-logloss:0.45020\n",
      "[276]\ttrain-logloss:0.44932\ttest-logloss:0.45006\n",
      "[277]\ttrain-logloss:0.44928\ttest-logloss:0.45007\n",
      "[278]\ttrain-logloss:0.44924\ttest-logloss:0.45004\n",
      "[279]\ttrain-logloss:0.44909\ttest-logloss:0.44986\n",
      "[280]\ttrain-logloss:0.44893\ttest-logloss:0.44969\n",
      "[281]\ttrain-logloss:0.44879\ttest-logloss:0.44958\n",
      "[282]\ttrain-logloss:0.44855\ttest-logloss:0.44941\n",
      "[283]\ttrain-logloss:0.44834\ttest-logloss:0.44922\n",
      "[284]\ttrain-logloss:0.44821\ttest-logloss:0.44909\n",
      "[285]\ttrain-logloss:0.44819\ttest-logloss:0.44908\n",
      "[286]\ttrain-logloss:0.44818\ttest-logloss:0.44906\n",
      "[287]\ttrain-logloss:0.44810\ttest-logloss:0.44903\n",
      "[288]\ttrain-logloss:0.44798\ttest-logloss:0.44900\n",
      "[289]\ttrain-logloss:0.44781\ttest-logloss:0.44879\n",
      "[290]\ttrain-logloss:0.44768\ttest-logloss:0.44870\n",
      "[291]\ttrain-logloss:0.44760\ttest-logloss:0.44864\n",
      "[292]\ttrain-logloss:0.44757\ttest-logloss:0.44859\n",
      "[293]\ttrain-logloss:0.44755\ttest-logloss:0.44858\n",
      "[294]\ttrain-logloss:0.44754\ttest-logloss:0.44857\n",
      "[295]\ttrain-logloss:0.44751\ttest-logloss:0.44856\n",
      "[296]\ttrain-logloss:0.44744\ttest-logloss:0.44848\n",
      "[297]\ttrain-logloss:0.44737\ttest-logloss:0.44841\n",
      "[298]\ttrain-logloss:0.44723\ttest-logloss:0.44832\n",
      "[299]\ttrain-logloss:0.44718\ttest-logloss:0.44825\n",
      "[300]\ttrain-logloss:0.44711\ttest-logloss:0.44821\n",
      "[301]\ttrain-logloss:0.44696\ttest-logloss:0.44811\n",
      "[302]\ttrain-logloss:0.44680\ttest-logloss:0.44798\n",
      "[303]\ttrain-logloss:0.44674\ttest-logloss:0.44792\n",
      "[304]\ttrain-logloss:0.44668\ttest-logloss:0.44786\n",
      "[305]\ttrain-logloss:0.44656\ttest-logloss:0.44779\n",
      "[306]\ttrain-logloss:0.44652\ttest-logloss:0.44776\n",
      "[307]\ttrain-logloss:0.44642\ttest-logloss:0.44769\n",
      "[308]\ttrain-logloss:0.44629\ttest-logloss:0.44755\n",
      "[309]\ttrain-logloss:0.44627\ttest-logloss:0.44753\n",
      "[310]\ttrain-logloss:0.44626\ttest-logloss:0.44752\n",
      "[311]\ttrain-logloss:0.44623\ttest-logloss:0.44752\n",
      "[312]\ttrain-logloss:0.44621\ttest-logloss:0.44752\n",
      "[313]\ttrain-logloss:0.44616\ttest-logloss:0.44745\n",
      "[314]\ttrain-logloss:0.44612\ttest-logloss:0.44743\n",
      "[315]\ttrain-logloss:0.44604\ttest-logloss:0.44738\n",
      "[316]\ttrain-logloss:0.44600\ttest-logloss:0.44735\n",
      "[317]\ttrain-logloss:0.44598\ttest-logloss:0.44734\n",
      "[318]\ttrain-logloss:0.44594\ttest-logloss:0.44732\n",
      "[319]\ttrain-logloss:0.44581\ttest-logloss:0.44729\n",
      "[320]\ttrain-logloss:0.44559\ttest-logloss:0.44713\n",
      "[321]\ttrain-logloss:0.44550\ttest-logloss:0.44704\n",
      "[322]\ttrain-logloss:0.44519\ttest-logloss:0.44674\n",
      "[323]\ttrain-logloss:0.44509\ttest-logloss:0.44664\n",
      "[324]\ttrain-logloss:0.44505\ttest-logloss:0.44661\n",
      "[325]\ttrain-logloss:0.44504\ttest-logloss:0.44659\n",
      "[326]\ttrain-logloss:0.44499\ttest-logloss:0.44653\n",
      "[327]\ttrain-logloss:0.44458\ttest-logloss:0.44614\n",
      "[328]\ttrain-logloss:0.44436\ttest-logloss:0.44588\n",
      "[329]\ttrain-logloss:0.44426\ttest-logloss:0.44581\n"
     ]
    },
    {
     "name": "stdout",
     "output_type": "stream",
     "text": [
      "[330]\ttrain-logloss:0.44420\ttest-logloss:0.44575\n",
      "[331]\ttrain-logloss:0.44411\ttest-logloss:0.44564\n",
      "[332]\ttrain-logloss:0.44398\ttest-logloss:0.44551\n",
      "[333]\ttrain-logloss:0.44384\ttest-logloss:0.44538\n",
      "[334]\ttrain-logloss:0.44380\ttest-logloss:0.44533\n",
      "[335]\ttrain-logloss:0.44361\ttest-logloss:0.44511\n",
      "[336]\ttrain-logloss:0.44346\ttest-logloss:0.44491\n",
      "[337]\ttrain-logloss:0.44332\ttest-logloss:0.44474\n",
      "[338]\ttrain-logloss:0.44319\ttest-logloss:0.44466\n",
      "[339]\ttrain-logloss:0.44316\ttest-logloss:0.44463\n",
      "[340]\ttrain-logloss:0.44292\ttest-logloss:0.44443\n",
      "[341]\ttrain-logloss:0.44267\ttest-logloss:0.44418\n",
      "[342]\ttrain-logloss:0.44232\ttest-logloss:0.44381\n",
      "[343]\ttrain-logloss:0.44220\ttest-logloss:0.44368\n",
      "[344]\ttrain-logloss:0.44209\ttest-logloss:0.44356\n",
      "[345]\ttrain-logloss:0.44192\ttest-logloss:0.44335\n",
      "[346]\ttrain-logloss:0.44184\ttest-logloss:0.44329\n",
      "[347]\ttrain-logloss:0.44179\ttest-logloss:0.44324\n",
      "[348]\ttrain-logloss:0.44169\ttest-logloss:0.44313\n",
      "[349]\ttrain-logloss:0.44166\ttest-logloss:0.44311\n",
      "[350]\ttrain-logloss:0.44159\ttest-logloss:0.44301\n",
      "[351]\ttrain-logloss:0.44157\ttest-logloss:0.44300\n",
      "[352]\ttrain-logloss:0.44147\ttest-logloss:0.44293\n",
      "[353]\ttrain-logloss:0.44142\ttest-logloss:0.44290\n",
      "[354]\ttrain-logloss:0.44140\ttest-logloss:0.44289\n",
      "[355]\ttrain-logloss:0.44137\ttest-logloss:0.44286\n",
      "[356]\ttrain-logloss:0.44126\ttest-logloss:0.44277\n",
      "[357]\ttrain-logloss:0.44115\ttest-logloss:0.44262\n",
      "[358]\ttrain-logloss:0.44114\ttest-logloss:0.44263\n",
      "[359]\ttrain-logloss:0.44113\ttest-logloss:0.44262\n",
      "[360]\ttrain-logloss:0.44110\ttest-logloss:0.44260\n",
      "[361]\ttrain-logloss:0.44102\ttest-logloss:0.44257\n",
      "[362]\ttrain-logloss:0.44093\ttest-logloss:0.44246\n",
      "[363]\ttrain-logloss:0.44089\ttest-logloss:0.44242\n",
      "[364]\ttrain-logloss:0.44086\ttest-logloss:0.44240\n",
      "[365]\ttrain-logloss:0.44080\ttest-logloss:0.44234\n",
      "[366]\ttrain-logloss:0.44061\ttest-logloss:0.44216\n",
      "[367]\ttrain-logloss:0.44045\ttest-logloss:0.44207\n",
      "[368]\ttrain-logloss:0.44036\ttest-logloss:0.44200\n",
      "[369]\ttrain-logloss:0.44023\ttest-logloss:0.44189\n",
      "[370]\ttrain-logloss:0.44013\ttest-logloss:0.44180\n",
      "[371]\ttrain-logloss:0.44001\ttest-logloss:0.44171\n",
      "[372]\ttrain-logloss:0.43996\ttest-logloss:0.44170\n",
      "[373]\ttrain-logloss:0.43980\ttest-logloss:0.44155\n",
      "[374]\ttrain-logloss:0.43978\ttest-logloss:0.44152\n",
      "[375]\ttrain-logloss:0.43969\ttest-logloss:0.44147\n",
      "[376]\ttrain-logloss:0.43967\ttest-logloss:0.44145\n",
      "[377]\ttrain-logloss:0.43963\ttest-logloss:0.44140\n",
      "[378]\ttrain-logloss:0.43961\ttest-logloss:0.44138\n",
      "[379]\ttrain-logloss:0.43957\ttest-logloss:0.44134\n",
      "[380]\ttrain-logloss:0.43950\ttest-logloss:0.44128\n",
      "[381]\ttrain-logloss:0.43948\ttest-logloss:0.44127\n",
      "[382]\ttrain-logloss:0.43947\ttest-logloss:0.44127\n",
      "[383]\ttrain-logloss:0.43944\ttest-logloss:0.44124\n",
      "[384]\ttrain-logloss:0.43932\ttest-logloss:0.44115\n",
      "[385]\ttrain-logloss:0.43920\ttest-logloss:0.44105\n",
      "[386]\ttrain-logloss:0.43911\ttest-logloss:0.44099\n",
      "[387]\ttrain-logloss:0.43889\ttest-logloss:0.44081\n",
      "[388]\ttrain-logloss:0.43882\ttest-logloss:0.44073\n",
      "[389]\ttrain-logloss:0.43876\ttest-logloss:0.44068\n",
      "[390]\ttrain-logloss:0.43858\ttest-logloss:0.44049\n",
      "[391]\ttrain-logloss:0.43856\ttest-logloss:0.44051\n",
      "[392]\ttrain-logloss:0.43850\ttest-logloss:0.44049\n",
      "[393]\ttrain-logloss:0.43835\ttest-logloss:0.44035\n",
      "[394]\ttrain-logloss:0.43833\ttest-logloss:0.44034\n",
      "[395]\ttrain-logloss:0.43832\ttest-logloss:0.44035\n",
      "[396]\ttrain-logloss:0.43831\ttest-logloss:0.44035\n",
      "[397]\ttrain-logloss:0.43828\ttest-logloss:0.44034\n",
      "[398]\ttrain-logloss:0.43813\ttest-logloss:0.44014\n",
      "[399]\ttrain-logloss:0.43809\ttest-logloss:0.44011\n"
     ]
    }
   ],
   "source": [
    "wlist = [(dtrain,'train'),(dtest,'test')]\n",
    "xgb_model = xgb.train(params=params, dtrain=dtrain, num_boost_round=num_rounds,evals=wlist)"
   ]
  },
  {
   "cell_type": "code",
   "execution_count": 64,
   "metadata": {},
   "outputs": [
    {
     "name": "stdout",
     "output_type": "stream",
     "text": [
      "[0.389 0.037 0.163 0.141 0.106 0.264 0.127 0.106 0.451 0.611]\n"
     ]
    }
   ],
   "source": [
    "pred_probs = xgb_model.predict(dtest)\n",
    "print(np.round(pred_probs[:10],3))"
   ]
  },
  {
   "cell_type": "code",
   "execution_count": 66,
   "metadata": {},
   "outputs": [
    {
     "name": "stdout",
     "output_type": "stream",
     "text": [
      "prediction 10 : [0, 0, 0, 0, 0, 0, 0, 0, 0, 1]\n"
     ]
    }
   ],
   "source": [
    "preds = [ 1 if x > 0.5 else 0 for x in pred_probs]\n",
    "print('prediction 10 :', preds [:10])"
   ]
  },
  {
   "cell_type": "code",
   "execution_count": 67,
   "metadata": {},
   "outputs": [
    {
     "name": "stdout",
     "output_type": "stream",
     "text": [
      "Confusion matrix\n",
      "[[10039  1494]\n",
      " [ 2556  5737]]\n",
      "accuracy: 0.7957,precison: 0.7934, recall: 0.6918, f1Score: 0.7391, RocScore: 0.7957\n"
     ]
    }
   ],
   "source": [
    "get_clf_eval(y_test, preds)"
   ]
  },
  {
   "cell_type": "code",
   "execution_count": null,
   "metadata": {},
   "outputs": [],
   "source": []
  },
  {
   "cell_type": "code",
   "execution_count": 68,
   "metadata": {},
   "outputs": [
    {
     "data": {
      "text/plain": [
       "<matplotlib.axes._subplots.AxesSubplot at 0x1fc9a5af308>"
      ]
     },
     "execution_count": 68,
     "metadata": {},
     "output_type": "execute_result"
    },
    {
     "data": {
      "image/png": "[encoded data removed]",
      "text/plain": [
       "<Figure size 720x864 with 1 Axes>"
      ]
     },
     "metadata": {
      "needs_background": "light"
     },
     "output_type": "display_data"
    }
   ],
   "source": [
    "#Visualise Importance features\n",
    "fig, ax = plt.subplots(figsize=(10,12))\n",
    "plot_importance(xgb_model, ax=ax)\n"
   ]
  },
  {
   "cell_type": "code",
   "execution_count": 73,
   "metadata": {},
   "outputs": [
    {
     "data": {
      "text/html": [
       "<div>\n",
       "<style scoped>\n",
       "    .dataframe tbody tr th:only-of-type {\n",
       "        vertical-align: middle;\n",
       "    }\n",
       "\n",
       "    .dataframe tbody tr th {\n",
       "        vertical-align: top;\n",
       "    }\n",
       "\n",
       "    .dataframe thead th {\n",
       "        text-align: right;\n",
       "    }\n",
       "</style>\n",
       "<table border=\"1\" class=\"dataframe\">\n",
       "  <thead>\n",
       "    <tr style=\"text-align: right;\">\n",
       "      <th></th>\n",
       "      <th>LeadTime</th>\n",
       "      <th>StaysInWeekendNights</th>\n",
       "      <th>StaysInWeekNights</th>\n",
       "      <th>Adults</th>\n",
       "      <th>Children</th>\n",
       "      <th>Babies</th>\n",
       "      <th>PreviousCancellations</th>\n",
       "      <th>PreviousBookingsNotCanceled</th>\n",
       "      <th>BookingChanges</th>\n",
       "      <th>DaysInWaitingList</th>\n",
       "      <th>...</th>\n",
       "      <th>Company_        486</th>\n",
       "      <th>Company_        489</th>\n",
       "      <th>Company_        491</th>\n",
       "      <th>Company_        492</th>\n",
       "      <th>Company_        494</th>\n",
       "      <th>Company_        497</th>\n",
       "      <th>Company_       NULL</th>\n",
       "      <th>CustomerType_Group</th>\n",
       "      <th>CustomerType_Transient</th>\n",
       "      <th>CustomerType_Transient-Party</th>\n",
       "    </tr>\n",
       "  </thead>\n",
       "  <tbody>\n",
       "    <tr>\n",
       "      <th>0</th>\n",
       "      <td>-0.934996</td>\n",
       "      <td>-0.898710</td>\n",
       "      <td>-0.125608</td>\n",
       "      <td>-1.672123</td>\n",
       "      <td>-0.245542</td>\n",
       "      <td>-0.058611</td>\n",
       "      <td>-0.191969</td>\n",
       "      <td>-0.078183</td>\n",
       "      <td>-0.30792</td>\n",
       "      <td>-0.154635</td>\n",
       "      <td>...</td>\n",
       "      <td>0</td>\n",
       "      <td>0</td>\n",
       "      <td>0</td>\n",
       "      <td>0</td>\n",
       "      <td>0</td>\n",
       "      <td>0</td>\n",
       "      <td>1</td>\n",
       "      <td>0</td>\n",
       "      <td>1</td>\n",
       "      <td>0</td>\n",
       "    </tr>\n",
       "    <tr>\n",
       "      <th>1</th>\n",
       "      <td>-0.195941</td>\n",
       "      <td>-0.898710</td>\n",
       "      <td>1.247936</td>\n",
       "      <td>0.292478</td>\n",
       "      <td>-0.245542</td>\n",
       "      <td>-0.058611</td>\n",
       "      <td>-0.191969</td>\n",
       "      <td>-0.078183</td>\n",
       "      <td>-0.30792</td>\n",
       "      <td>-0.154635</td>\n",
       "      <td>...</td>\n",
       "      <td>0</td>\n",
       "      <td>0</td>\n",
       "      <td>0</td>\n",
       "      <td>0</td>\n",
       "      <td>0</td>\n",
       "      <td>0</td>\n",
       "      <td>1</td>\n",
       "      <td>0</td>\n",
       "      <td>1</td>\n",
       "      <td>0</td>\n",
       "    </tr>\n",
       "    <tr>\n",
       "      <th>2</th>\n",
       "      <td>-0.403237</td>\n",
       "      <td>-0.898710</td>\n",
       "      <td>1.247936</td>\n",
       "      <td>-1.672123</td>\n",
       "      <td>-0.245542</td>\n",
       "      <td>-0.058611</td>\n",
       "      <td>-0.191969</td>\n",
       "      <td>-0.078183</td>\n",
       "      <td>-0.30792</td>\n",
       "      <td>-0.154635</td>\n",
       "      <td>...</td>\n",
       "      <td>0</td>\n",
       "      <td>0</td>\n",
       "      <td>0</td>\n",
       "      <td>0</td>\n",
       "      <td>0</td>\n",
       "      <td>0</td>\n",
       "      <td>1</td>\n",
       "      <td>0</td>\n",
       "      <td>1</td>\n",
       "      <td>0</td>\n",
       "    </tr>\n",
       "    <tr>\n",
       "      <th>3</th>\n",
       "      <td>-0.159890</td>\n",
       "      <td>1.361231</td>\n",
       "      <td>1.247936</td>\n",
       "      <td>0.292478</td>\n",
       "      <td>-0.245542</td>\n",
       "      <td>-0.058611</td>\n",
       "      <td>-0.191969</td>\n",
       "      <td>-0.078183</td>\n",
       "      <td>-0.30792</td>\n",
       "      <td>-0.154635</td>\n",
       "      <td>...</td>\n",
       "      <td>0</td>\n",
       "      <td>0</td>\n",
       "      <td>0</td>\n",
       "      <td>0</td>\n",
       "      <td>0</td>\n",
       "      <td>0</td>\n",
       "      <td>1</td>\n",
       "      <td>0</td>\n",
       "      <td>1</td>\n",
       "      <td>0</td>\n",
       "    </tr>\n",
       "    <tr>\n",
       "      <th>4</th>\n",
       "      <td>-0.087787</td>\n",
       "      <td>-0.898710</td>\n",
       "      <td>-0.125608</td>\n",
       "      <td>0.292478</td>\n",
       "      <td>-0.245542</td>\n",
       "      <td>-0.058611</td>\n",
       "      <td>-0.191969</td>\n",
       "      <td>-0.078183</td>\n",
       "      <td>-0.30792</td>\n",
       "      <td>-0.154635</td>\n",
       "      <td>...</td>\n",
       "      <td>0</td>\n",
       "      <td>0</td>\n",
       "      <td>0</td>\n",
       "      <td>0</td>\n",
       "      <td>0</td>\n",
       "      <td>0</td>\n",
       "      <td>1</td>\n",
       "      <td>0</td>\n",
       "      <td>1</td>\n",
       "      <td>0</td>\n",
       "    </tr>\n",
       "  </tbody>\n",
       "</table>\n",
       "<p>5 rows × 733 columns</p>\n",
       "</div>"
      ],
      "text/plain": [
       "   LeadTime  StaysInWeekendNights  StaysInWeekNights    Adults  Children  \\\n",
       "0 -0.934996             -0.898710          -0.125608 -1.672123 -0.245542   \n",
       "1 -0.195941             -0.898710           1.247936  0.292478 -0.245542   \n",
       "2 -0.403237             -0.898710           1.247936 -1.672123 -0.245542   \n",
       "3 -0.159890              1.361231           1.247936  0.292478 -0.245542   \n",
       "4 -0.087787             -0.898710          -0.125608  0.292478 -0.245542   \n",
       "\n",
       "     Babies  PreviousCancellations  PreviousBookingsNotCanceled  \\\n",
       "0 -0.058611              -0.191969                    -0.078183   \n",
       "1 -0.058611              -0.191969                    -0.078183   \n",
       "2 -0.058611              -0.191969                    -0.078183   \n",
       "3 -0.058611              -0.191969                    -0.078183   \n",
       "4 -0.058611              -0.191969                    -0.078183   \n",
       "\n",
       "   BookingChanges  DaysInWaitingList  ...  Company_        486  \\\n",
       "0        -0.30792          -0.154635  ...                    0   \n",
       "1        -0.30792          -0.154635  ...                    0   \n",
       "2        -0.30792          -0.154635  ...                    0   \n",
       "3        -0.30792          -0.154635  ...                    0   \n",
       "4        -0.30792          -0.154635  ...                    0   \n",
       "\n",
       "   Company_        489  Company_        491  Company_        492  \\\n",
       "0                    0                    0                    0   \n",
       "1                    0                    0                    0   \n",
       "2                    0                    0                    0   \n",
       "3                    0                    0                    0   \n",
       "4                    0                    0                    0   \n",
       "\n",
       "   Company_        494  Company_        497  Company_       NULL  \\\n",
       "0                    0                    0                    1   \n",
       "1                    0                    0                    1   \n",
       "2                    0                    0                    1   \n",
       "3                    0                    0                    1   \n",
       "4                    0                    0                    1   \n",
       "\n",
       "   CustomerType_Group  CustomerType_Transient  CustomerType_Transient-Party  \n",
       "0                   0                       1                             0  \n",
       "1                   0                       1                             0  \n",
       "2                   0                       1                             0  \n",
       "3                   0                       1                             0  \n",
       "4                   0                       1                             0  \n",
       "\n",
       "[5 rows x 733 columns]"
      ]
     },
     "execution_count": 73,
     "metadata": {},
     "output_type": "execute_result"
    }
   ],
   "source": [
    "X_s.head()"
   ]
  },
  {
   "cell_type": "code",
   "execution_count": null,
   "metadata": {},
   "outputs": [],
   "source": [
    "f(0)= Leadtime, \n",
    "f(10)= \n",
    "f(9)= Daysinwaitinglist\n",
    "f(12)="
   ]
  },
  {
   "cell_type": "code",
   "execution_count": null,
   "metadata": {},
   "outputs": [],
   "source": []
  },
  {
   "cell_type": "markdown",
   "metadata": {},
   "source": [
    "# XGBoost"
   ]
  },
  {
   "cell_type": "code",
   "execution_count": 83,
   "metadata": {},
   "outputs": [],
   "source": [
    "xgb_clf = XGBClassifier(n_estimators = 300, random_state = 50)"
   ]
  },
  {
   "cell_type": "code",
   "execution_count": 95,
   "metadata": {},
   "outputs": [
    {
     "name": "stdout",
     "output_type": "stream",
     "text": [
      "[0]\tvalidation_0-auc:0.81644\tvalidation_1-auc:0.81766\n",
      "Multiple eval metrics have been passed: 'validation_1-auc' will be used for early stopping.\n",
      "\n",
      "Will train until validation_1-auc hasn't improved in 100 rounds.\n",
      "[1]\tvalidation_0-auc:0.82462\tvalidation_1-auc:0.82691\n",
      "[2]\tvalidation_0-auc:0.82891\tvalidation_1-auc:0.83127\n",
      "[3]\tvalidation_0-auc:0.83210\tvalidation_1-auc:0.83478\n",
      "[4]\tvalidation_0-auc:0.83391\tvalidation_1-auc:0.83622\n",
      "[5]\tvalidation_0-auc:0.83554\tvalidation_1-auc:0.83733\n",
      "[6]\tvalidation_0-auc:0.83674\tvalidation_1-auc:0.83846\n",
      "[7]\tvalidation_0-auc:0.83775\tvalidation_1-auc:0.83938\n",
      "[8]\tvalidation_0-auc:0.84053\tvalidation_1-auc:0.84211\n",
      "[9]\tvalidation_0-auc:0.84093\tvalidation_1-auc:0.84265\n",
      "[10]\tvalidation_0-auc:0.84282\tvalidation_1-auc:0.84471\n",
      "[11]\tvalidation_0-auc:0.84512\tvalidation_1-auc:0.84689\n",
      "[12]\tvalidation_0-auc:0.84693\tvalidation_1-auc:0.84823\n",
      "[13]\tvalidation_0-auc:0.84768\tvalidation_1-auc:0.84845\n",
      "[14]\tvalidation_0-auc:0.84979\tvalidation_1-auc:0.84966\n",
      "[15]\tvalidation_0-auc:0.85034\tvalidation_1-auc:0.85015\n",
      "[16]\tvalidation_0-auc:0.85075\tvalidation_1-auc:0.85039\n",
      "[17]\tvalidation_0-auc:0.85415\tvalidation_1-auc:0.85358\n",
      "[18]\tvalidation_0-auc:0.85456\tvalidation_1-auc:0.85389\n",
      "[19]\tvalidation_0-auc:0.85644\tvalidation_1-auc:0.85532\n",
      "[20]\tvalidation_0-auc:0.85757\tvalidation_1-auc:0.85597\n",
      "[21]\tvalidation_0-auc:0.85820\tvalidation_1-auc:0.85621\n",
      "[22]\tvalidation_0-auc:0.86188\tvalidation_1-auc:0.85918\n",
      "[23]\tvalidation_0-auc:0.86269\tvalidation_1-auc:0.85980\n",
      "[24]\tvalidation_0-auc:0.86450\tvalidation_1-auc:0.86143\n",
      "[25]\tvalidation_0-auc:0.86511\tvalidation_1-auc:0.86195\n",
      "[26]\tvalidation_0-auc:0.86542\tvalidation_1-auc:0.86194\n",
      "[27]\tvalidation_0-auc:0.86863\tvalidation_1-auc:0.86461\n",
      "[28]\tvalidation_0-auc:0.86933\tvalidation_1-auc:0.86479\n",
      "[29]\tvalidation_0-auc:0.87030\tvalidation_1-auc:0.86554\n",
      "[30]\tvalidation_0-auc:0.87063\tvalidation_1-auc:0.86582\n",
      "[31]\tvalidation_0-auc:0.87116\tvalidation_1-auc:0.86653\n",
      "[32]\tvalidation_0-auc:0.87247\tvalidation_1-auc:0.86729\n",
      "[33]\tvalidation_0-auc:0.87271\tvalidation_1-auc:0.86746\n",
      "[34]\tvalidation_0-auc:0.87528\tvalidation_1-auc:0.86935\n",
      "[35]\tvalidation_0-auc:0.87578\tvalidation_1-auc:0.86965\n",
      "[36]\tvalidation_0-auc:0.87650\tvalidation_1-auc:0.87023\n",
      "[37]\tvalidation_0-auc:0.87716\tvalidation_1-auc:0.87072\n",
      "[38]\tvalidation_0-auc:0.87742\tvalidation_1-auc:0.87086\n",
      "[39]\tvalidation_0-auc:0.87783\tvalidation_1-auc:0.87098\n",
      "[40]\tvalidation_0-auc:0.87812\tvalidation_1-auc:0.87111\n",
      "[41]\tvalidation_0-auc:0.87847\tvalidation_1-auc:0.87144\n",
      "[42]\tvalidation_0-auc:0.87970\tvalidation_1-auc:0.87204\n",
      "[43]\tvalidation_0-auc:0.87994\tvalidation_1-auc:0.87203\n",
      "[44]\tvalidation_0-auc:0.88006\tvalidation_1-auc:0.87213\n",
      "[45]\tvalidation_0-auc:0.88038\tvalidation_1-auc:0.87238\n",
      "[46]\tvalidation_0-auc:0.88177\tvalidation_1-auc:0.87312\n",
      "[47]\tvalidation_0-auc:0.88299\tvalidation_1-auc:0.87395\n",
      "[48]\tvalidation_0-auc:0.88346\tvalidation_1-auc:0.87443\n",
      "[49]\tvalidation_0-auc:0.88369\tvalidation_1-auc:0.87452\n",
      "[50]\tvalidation_0-auc:0.88381\tvalidation_1-auc:0.87447\n",
      "[51]\tvalidation_0-auc:0.88404\tvalidation_1-auc:0.87471\n",
      "[52]\tvalidation_0-auc:0.88510\tvalidation_1-auc:0.87545\n",
      "[53]\tvalidation_0-auc:0.88542\tvalidation_1-auc:0.87552\n",
      "[54]\tvalidation_0-auc:0.88602\tvalidation_1-auc:0.87575\n",
      "[55]\tvalidation_0-auc:0.88713\tvalidation_1-auc:0.87611\n",
      "[56]\tvalidation_0-auc:0.88790\tvalidation_1-auc:0.87663\n",
      "[57]\tvalidation_0-auc:0.88812\tvalidation_1-auc:0.87679\n",
      "[58]\tvalidation_0-auc:0.88845\tvalidation_1-auc:0.87695\n",
      "[59]\tvalidation_0-auc:0.88850\tvalidation_1-auc:0.87696\n",
      "[60]\tvalidation_0-auc:0.88871\tvalidation_1-auc:0.87701\n",
      "[61]\tvalidation_0-auc:0.89004\tvalidation_1-auc:0.87797\n",
      "[62]\tvalidation_0-auc:0.89082\tvalidation_1-auc:0.87843\n",
      "[63]\tvalidation_0-auc:0.89090\tvalidation_1-auc:0.87855\n",
      "[64]\tvalidation_0-auc:0.89129\tvalidation_1-auc:0.87872\n",
      "[65]\tvalidation_0-auc:0.89176\tvalidation_1-auc:0.87913\n",
      "[66]\tvalidation_0-auc:0.89276\tvalidation_1-auc:0.87969\n",
      "[67]\tvalidation_0-auc:0.89465\tvalidation_1-auc:0.88128\n",
      "[68]\tvalidation_0-auc:0.89534\tvalidation_1-auc:0.88129\n",
      "[69]\tvalidation_0-auc:0.89560\tvalidation_1-auc:0.88138\n",
      "[70]\tvalidation_0-auc:0.89561\tvalidation_1-auc:0.88137\n",
      "[71]\tvalidation_0-auc:0.89581\tvalidation_1-auc:0.88156\n",
      "[72]\tvalidation_0-auc:0.89596\tvalidation_1-auc:0.88153\n",
      "[73]\tvalidation_0-auc:0.89710\tvalidation_1-auc:0.88177\n",
      "[74]\tvalidation_0-auc:0.89796\tvalidation_1-auc:0.88214\n",
      "[75]\tvalidation_0-auc:0.89852\tvalidation_1-auc:0.88240\n",
      "[76]\tvalidation_0-auc:0.89880\tvalidation_1-auc:0.88240\n",
      "[77]\tvalidation_0-auc:0.89984\tvalidation_1-auc:0.88294\n",
      "[78]\tvalidation_0-auc:0.90046\tvalidation_1-auc:0.88327\n",
      "[79]\tvalidation_0-auc:0.90108\tvalidation_1-auc:0.88359\n",
      "[80]\tvalidation_0-auc:0.90166\tvalidation_1-auc:0.88406\n",
      "[81]\tvalidation_0-auc:0.90195\tvalidation_1-auc:0.88418\n",
      "[82]\tvalidation_0-auc:0.90229\tvalidation_1-auc:0.88435\n",
      "[83]\tvalidation_0-auc:0.90238\tvalidation_1-auc:0.88435\n",
      "[84]\tvalidation_0-auc:0.90245\tvalidation_1-auc:0.88433\n",
      "[85]\tvalidation_0-auc:0.90270\tvalidation_1-auc:0.88444\n",
      "[86]\tvalidation_0-auc:0.90280\tvalidation_1-auc:0.88450\n",
      "[87]\tvalidation_0-auc:0.90344\tvalidation_1-auc:0.88470\n",
      "[88]\tvalidation_0-auc:0.90409\tvalidation_1-auc:0.88501\n",
      "[89]\tvalidation_0-auc:0.90472\tvalidation_1-auc:0.88527\n",
      "[90]\tvalidation_0-auc:0.90547\tvalidation_1-auc:0.88567\n",
      "[91]\tvalidation_0-auc:0.90595\tvalidation_1-auc:0.88558\n",
      "[92]\tvalidation_0-auc:0.90620\tvalidation_1-auc:0.88577\n",
      "[93]\tvalidation_0-auc:0.90693\tvalidation_1-auc:0.88605\n",
      "[94]\tvalidation_0-auc:0.90711\tvalidation_1-auc:0.88611\n",
      "[95]\tvalidation_0-auc:0.90730\tvalidation_1-auc:0.88615\n",
      "[96]\tvalidation_0-auc:0.90745\tvalidation_1-auc:0.88610\n",
      "[97]\tvalidation_0-auc:0.90746\tvalidation_1-auc:0.88612\n",
      "[98]\tvalidation_0-auc:0.90773\tvalidation_1-auc:0.88627\n",
      "[99]\tvalidation_0-auc:0.90838\tvalidation_1-auc:0.88662\n",
      "[100]\tvalidation_0-auc:0.90927\tvalidation_1-auc:0.88726\n",
      "[101]\tvalidation_0-auc:0.90955\tvalidation_1-auc:0.88725\n",
      "[102]\tvalidation_0-auc:0.91008\tvalidation_1-auc:0.88732\n",
      "[103]\tvalidation_0-auc:0.91031\tvalidation_1-auc:0.88742\n",
      "[104]\tvalidation_0-auc:0.91069\tvalidation_1-auc:0.88754\n",
      "[105]\tvalidation_0-auc:0.91087\tvalidation_1-auc:0.88760\n",
      "[106]\tvalidation_0-auc:0.91098\tvalidation_1-auc:0.88768\n",
      "[107]\tvalidation_0-auc:0.91100\tvalidation_1-auc:0.88768\n",
      "[108]\tvalidation_0-auc:0.91105\tvalidation_1-auc:0.88772\n",
      "[109]\tvalidation_0-auc:0.91115\tvalidation_1-auc:0.88768\n",
      "[110]\tvalidation_0-auc:0.91121\tvalidation_1-auc:0.88777\n",
      "[111]\tvalidation_0-auc:0.91123\tvalidation_1-auc:0.88780\n",
      "[112]\tvalidation_0-auc:0.91125\tvalidation_1-auc:0.88779\n",
      "[113]\tvalidation_0-auc:0.91177\tvalidation_1-auc:0.88805\n",
      "[114]\tvalidation_0-auc:0.91218\tvalidation_1-auc:0.88816\n",
      "[115]\tvalidation_0-auc:0.91239\tvalidation_1-auc:0.88806\n",
      "[116]\tvalidation_0-auc:0.91276\tvalidation_1-auc:0.88810\n",
      "[117]\tvalidation_0-auc:0.91309\tvalidation_1-auc:0.88817\n",
      "[118]\tvalidation_0-auc:0.91343\tvalidation_1-auc:0.88851\n",
      "[119]\tvalidation_0-auc:0.91406\tvalidation_1-auc:0.88892\n",
      "[120]\tvalidation_0-auc:0.91420\tvalidation_1-auc:0.88904\n",
      "[121]\tvalidation_0-auc:0.91479\tvalidation_1-auc:0.88928\n",
      "[122]\tvalidation_0-auc:0.91524\tvalidation_1-auc:0.88951\n",
      "[123]\tvalidation_0-auc:0.91587\tvalidation_1-auc:0.88971\n",
      "[124]\tvalidation_0-auc:0.91609\tvalidation_1-auc:0.88966\n",
      "[125]\tvalidation_0-auc:0.91621\tvalidation_1-auc:0.88972\n",
      "[126]\tvalidation_0-auc:0.91635\tvalidation_1-auc:0.88976\n",
      "[127]\tvalidation_0-auc:0.91672\tvalidation_1-auc:0.88980\n",
      "[128]\tvalidation_0-auc:0.91692\tvalidation_1-auc:0.88982\n",
      "[129]\tvalidation_0-auc:0.91714\tvalidation_1-auc:0.88984\n",
      "[130]\tvalidation_0-auc:0.91771\tvalidation_1-auc:0.89015\n",
      "[131]\tvalidation_0-auc:0.91796\tvalidation_1-auc:0.89030\n",
      "[132]\tvalidation_0-auc:0.91808\tvalidation_1-auc:0.89034\n",
      "[133]\tvalidation_0-auc:0.91844\tvalidation_1-auc:0.89050\n",
      "[134]\tvalidation_0-auc:0.91853\tvalidation_1-auc:0.89057\n",
      "[135]\tvalidation_0-auc:0.91853\tvalidation_1-auc:0.89056\n",
      "[136]\tvalidation_0-auc:0.91870\tvalidation_1-auc:0.89071\n",
      "[137]\tvalidation_0-auc:0.91885\tvalidation_1-auc:0.89070\n",
      "[138]\tvalidation_0-auc:0.91924\tvalidation_1-auc:0.89070\n",
      "[139]\tvalidation_0-auc:0.91934\tvalidation_1-auc:0.89065\n",
      "[140]\tvalidation_0-auc:0.91985\tvalidation_1-auc:0.89086\n",
      "[141]\tvalidation_0-auc:0.92018\tvalidation_1-auc:0.89100\n",
      "[142]\tvalidation_0-auc:0.92057\tvalidation_1-auc:0.89125\n",
      "[143]\tvalidation_0-auc:0.92098\tvalidation_1-auc:0.89137\n",
      "[144]\tvalidation_0-auc:0.92131\tvalidation_1-auc:0.89148\n",
      "[145]\tvalidation_0-auc:0.92141\tvalidation_1-auc:0.89152\n"
     ]
    },
    {
     "name": "stdout",
     "output_type": "stream",
     "text": [
      "[146]\tvalidation_0-auc:0.92142\tvalidation_1-auc:0.89153\n",
      "[147]\tvalidation_0-auc:0.92144\tvalidation_1-auc:0.89155\n",
      "[148]\tvalidation_0-auc:0.92151\tvalidation_1-auc:0.89159\n",
      "[149]\tvalidation_0-auc:0.92160\tvalidation_1-auc:0.89161\n",
      "[150]\tvalidation_0-auc:0.92164\tvalidation_1-auc:0.89161\n",
      "[151]\tvalidation_0-auc:0.92168\tvalidation_1-auc:0.89159\n",
      "[152]\tvalidation_0-auc:0.92200\tvalidation_1-auc:0.89164\n",
      "[153]\tvalidation_0-auc:0.92215\tvalidation_1-auc:0.89172\n",
      "[154]\tvalidation_0-auc:0.92218\tvalidation_1-auc:0.89170\n",
      "[155]\tvalidation_0-auc:0.92218\tvalidation_1-auc:0.89173\n",
      "[156]\tvalidation_0-auc:0.92265\tvalidation_1-auc:0.89176\n",
      "[157]\tvalidation_0-auc:0.92271\tvalidation_1-auc:0.89172\n",
      "[158]\tvalidation_0-auc:0.92278\tvalidation_1-auc:0.89170\n",
      "[159]\tvalidation_0-auc:0.92282\tvalidation_1-auc:0.89167\n",
      "[160]\tvalidation_0-auc:0.92313\tvalidation_1-auc:0.89157\n",
      "[161]\tvalidation_0-auc:0.92322\tvalidation_1-auc:0.89154\n",
      "[162]\tvalidation_0-auc:0.92355\tvalidation_1-auc:0.89168\n",
      "[163]\tvalidation_0-auc:0.92369\tvalidation_1-auc:0.89178\n",
      "[164]\tvalidation_0-auc:0.92379\tvalidation_1-auc:0.89182\n",
      "[165]\tvalidation_0-auc:0.92395\tvalidation_1-auc:0.89196\n",
      "[166]\tvalidation_0-auc:0.92397\tvalidation_1-auc:0.89197\n",
      "[167]\tvalidation_0-auc:0.92403\tvalidation_1-auc:0.89205\n",
      "[168]\tvalidation_0-auc:0.92435\tvalidation_1-auc:0.89220\n",
      "[169]\tvalidation_0-auc:0.92440\tvalidation_1-auc:0.89223\n",
      "[170]\tvalidation_0-auc:0.92444\tvalidation_1-auc:0.89222\n",
      "[171]\tvalidation_0-auc:0.92446\tvalidation_1-auc:0.89220\n",
      "[172]\tvalidation_0-auc:0.92485\tvalidation_1-auc:0.89240\n",
      "[173]\tvalidation_0-auc:0.92524\tvalidation_1-auc:0.89233\n",
      "[174]\tvalidation_0-auc:0.92567\tvalidation_1-auc:0.89274\n",
      "[175]\tvalidation_0-auc:0.92601\tvalidation_1-auc:0.89288\n",
      "[176]\tvalidation_0-auc:0.92615\tvalidation_1-auc:0.89296\n",
      "[177]\tvalidation_0-auc:0.92640\tvalidation_1-auc:0.89291\n",
      "[178]\tvalidation_0-auc:0.92689\tvalidation_1-auc:0.89314\n",
      "[179]\tvalidation_0-auc:0.92736\tvalidation_1-auc:0.89315\n",
      "[180]\tvalidation_0-auc:0.92755\tvalidation_1-auc:0.89333\n",
      "[181]\tvalidation_0-auc:0.92803\tvalidation_1-auc:0.89352\n",
      "[182]\tvalidation_0-auc:0.92806\tvalidation_1-auc:0.89355\n",
      "[183]\tvalidation_0-auc:0.92836\tvalidation_1-auc:0.89347\n",
      "[184]\tvalidation_0-auc:0.92872\tvalidation_1-auc:0.89378\n",
      "[185]\tvalidation_0-auc:0.92898\tvalidation_1-auc:0.89387\n",
      "[186]\tvalidation_0-auc:0.92907\tvalidation_1-auc:0.89387\n",
      "[187]\tvalidation_0-auc:0.92928\tvalidation_1-auc:0.89397\n",
      "[188]\tvalidation_0-auc:0.92937\tvalidation_1-auc:0.89397\n",
      "[189]\tvalidation_0-auc:0.92938\tvalidation_1-auc:0.89398\n",
      "[190]\tvalidation_0-auc:0.92950\tvalidation_1-auc:0.89394\n",
      "[191]\tvalidation_0-auc:0.92970\tvalidation_1-auc:0.89397\n",
      "[192]\tvalidation_0-auc:0.92976\tvalidation_1-auc:0.89403\n",
      "[193]\tvalidation_0-auc:0.93009\tvalidation_1-auc:0.89420\n",
      "[194]\tvalidation_0-auc:0.93018\tvalidation_1-auc:0.89421\n",
      "[195]\tvalidation_0-auc:0.93041\tvalidation_1-auc:0.89429\n",
      "[196]\tvalidation_0-auc:0.93076\tvalidation_1-auc:0.89428\n",
      "[197]\tvalidation_0-auc:0.93120\tvalidation_1-auc:0.89437\n",
      "[198]\tvalidation_0-auc:0.93150\tvalidation_1-auc:0.89447\n",
      "[199]\tvalidation_0-auc:0.93162\tvalidation_1-auc:0.89452\n",
      "[200]\tvalidation_0-auc:0.93190\tvalidation_1-auc:0.89466\n",
      "[201]\tvalidation_0-auc:0.93215\tvalidation_1-auc:0.89484\n",
      "[202]\tvalidation_0-auc:0.93217\tvalidation_1-auc:0.89485\n",
      "[203]\tvalidation_0-auc:0.93234\tvalidation_1-auc:0.89486\n",
      "[204]\tvalidation_0-auc:0.93248\tvalidation_1-auc:0.89488\n",
      "[205]\tvalidation_0-auc:0.93255\tvalidation_1-auc:0.89484\n",
      "[206]\tvalidation_0-auc:0.93258\tvalidation_1-auc:0.89480\n",
      "[207]\tvalidation_0-auc:0.93260\tvalidation_1-auc:0.89479\n",
      "[208]\tvalidation_0-auc:0.93277\tvalidation_1-auc:0.89482\n",
      "[209]\tvalidation_0-auc:0.93279\tvalidation_1-auc:0.89480\n",
      "[210]\tvalidation_0-auc:0.93312\tvalidation_1-auc:0.89484\n",
      "[211]\tvalidation_0-auc:0.93347\tvalidation_1-auc:0.89486\n",
      "[212]\tvalidation_0-auc:0.93366\tvalidation_1-auc:0.89497\n",
      "[213]\tvalidation_0-auc:0.93404\tvalidation_1-auc:0.89518\n",
      "[214]\tvalidation_0-auc:0.93435\tvalidation_1-auc:0.89532\n",
      "[215]\tvalidation_0-auc:0.93439\tvalidation_1-auc:0.89531\n",
      "[216]\tvalidation_0-auc:0.93459\tvalidation_1-auc:0.89527\n",
      "[217]\tvalidation_0-auc:0.93479\tvalidation_1-auc:0.89537\n",
      "[218]\tvalidation_0-auc:0.93480\tvalidation_1-auc:0.89538\n",
      "[219]\tvalidation_0-auc:0.93498\tvalidation_1-auc:0.89541\n",
      "[220]\tvalidation_0-auc:0.93501\tvalidation_1-auc:0.89543\n",
      "[221]\tvalidation_0-auc:0.93535\tvalidation_1-auc:0.89559\n",
      "[222]\tvalidation_0-auc:0.93551\tvalidation_1-auc:0.89574\n",
      "[223]\tvalidation_0-auc:0.93568\tvalidation_1-auc:0.89601\n",
      "[224]\tvalidation_0-auc:0.93578\tvalidation_1-auc:0.89607\n",
      "[225]\tvalidation_0-auc:0.93588\tvalidation_1-auc:0.89607\n",
      "[226]\tvalidation_0-auc:0.93589\tvalidation_1-auc:0.89606\n",
      "[227]\tvalidation_0-auc:0.93607\tvalidation_1-auc:0.89608\n",
      "[228]\tvalidation_0-auc:0.93618\tvalidation_1-auc:0.89609\n",
      "[229]\tvalidation_0-auc:0.93645\tvalidation_1-auc:0.89627\n",
      "[230]\tvalidation_0-auc:0.93666\tvalidation_1-auc:0.89625\n",
      "[231]\tvalidation_0-auc:0.93694\tvalidation_1-auc:0.89647\n",
      "[232]\tvalidation_0-auc:0.93696\tvalidation_1-auc:0.89647\n",
      "[233]\tvalidation_0-auc:0.93699\tvalidation_1-auc:0.89644\n",
      "[234]\tvalidation_0-auc:0.93700\tvalidation_1-auc:0.89646\n",
      "[235]\tvalidation_0-auc:0.93701\tvalidation_1-auc:0.89648\n",
      "[236]\tvalidation_0-auc:0.93724\tvalidation_1-auc:0.89658\n",
      "[237]\tvalidation_0-auc:0.93745\tvalidation_1-auc:0.89677\n",
      "[238]\tvalidation_0-auc:0.93757\tvalidation_1-auc:0.89680\n",
      "[239]\tvalidation_0-auc:0.93757\tvalidation_1-auc:0.89681\n",
      "[240]\tvalidation_0-auc:0.93775\tvalidation_1-auc:0.89675\n",
      "[241]\tvalidation_0-auc:0.93777\tvalidation_1-auc:0.89675\n",
      "[242]\tvalidation_0-auc:0.93777\tvalidation_1-auc:0.89675\n",
      "[243]\tvalidation_0-auc:0.93807\tvalidation_1-auc:0.89695\n",
      "[244]\tvalidation_0-auc:0.93826\tvalidation_1-auc:0.89709\n",
      "[245]\tvalidation_0-auc:0.93831\tvalidation_1-auc:0.89711\n",
      "[246]\tvalidation_0-auc:0.93847\tvalidation_1-auc:0.89719\n",
      "[247]\tvalidation_0-auc:0.93861\tvalidation_1-auc:0.89724\n",
      "[248]\tvalidation_0-auc:0.93875\tvalidation_1-auc:0.89728\n",
      "[249]\tvalidation_0-auc:0.93893\tvalidation_1-auc:0.89729\n",
      "[250]\tvalidation_0-auc:0.93897\tvalidation_1-auc:0.89726\n",
      "[251]\tvalidation_0-auc:0.93900\tvalidation_1-auc:0.89723\n",
      "[252]\tvalidation_0-auc:0.93926\tvalidation_1-auc:0.89723\n",
      "[253]\tvalidation_0-auc:0.93949\tvalidation_1-auc:0.89722\n",
      "[254]\tvalidation_0-auc:0.93972\tvalidation_1-auc:0.89726\n",
      "[255]\tvalidation_0-auc:0.93991\tvalidation_1-auc:0.89738\n",
      "[256]\tvalidation_0-auc:0.93998\tvalidation_1-auc:0.89740\n",
      "[257]\tvalidation_0-auc:0.94001\tvalidation_1-auc:0.89740\n",
      "[258]\tvalidation_0-auc:0.94003\tvalidation_1-auc:0.89740\n",
      "[259]\tvalidation_0-auc:0.94012\tvalidation_1-auc:0.89743\n",
      "[260]\tvalidation_0-auc:0.94013\tvalidation_1-auc:0.89744\n",
      "[261]\tvalidation_0-auc:0.94021\tvalidation_1-auc:0.89744\n",
      "[262]\tvalidation_0-auc:0.94044\tvalidation_1-auc:0.89749\n",
      "[263]\tvalidation_0-auc:0.94057\tvalidation_1-auc:0.89756\n",
      "[264]\tvalidation_0-auc:0.94071\tvalidation_1-auc:0.89749\n",
      "[265]\tvalidation_0-auc:0.94092\tvalidation_1-auc:0.89765\n",
      "[266]\tvalidation_0-auc:0.94108\tvalidation_1-auc:0.89765\n",
      "[267]\tvalidation_0-auc:0.94125\tvalidation_1-auc:0.89766\n",
      "[268]\tvalidation_0-auc:0.94141\tvalidation_1-auc:0.89773\n",
      "[269]\tvalidation_0-auc:0.94145\tvalidation_1-auc:0.89772\n",
      "[270]\tvalidation_0-auc:0.94146\tvalidation_1-auc:0.89772\n",
      "[271]\tvalidation_0-auc:0.94149\tvalidation_1-auc:0.89771\n",
      "[272]\tvalidation_0-auc:0.94149\tvalidation_1-auc:0.89771\n",
      "[273]\tvalidation_0-auc:0.94152\tvalidation_1-auc:0.89769\n",
      "[274]\tvalidation_0-auc:0.94153\tvalidation_1-auc:0.89769\n",
      "[275]\tvalidation_0-auc:0.94168\tvalidation_1-auc:0.89776\n",
      "[276]\tvalidation_0-auc:0.94178\tvalidation_1-auc:0.89775\n",
      "[277]\tvalidation_0-auc:0.94218\tvalidation_1-auc:0.89798\n",
      "[278]\tvalidation_0-auc:0.94229\tvalidation_1-auc:0.89786\n",
      "[279]\tvalidation_0-auc:0.94251\tvalidation_1-auc:0.89794\n",
      "[280]\tvalidation_0-auc:0.94269\tvalidation_1-auc:0.89797\n",
      "[281]\tvalidation_0-auc:0.94274\tvalidation_1-auc:0.89796\n",
      "[282]\tvalidation_0-auc:0.94290\tvalidation_1-auc:0.89799\n",
      "[283]\tvalidation_0-auc:0.94293\tvalidation_1-auc:0.89800\n",
      "[284]\tvalidation_0-auc:0.94293\tvalidation_1-auc:0.89804\n",
      "[285]\tvalidation_0-auc:0.94301\tvalidation_1-auc:0.89803\n",
      "[286]\tvalidation_0-auc:0.94305\tvalidation_1-auc:0.89801\n",
      "[287]\tvalidation_0-auc:0.94310\tvalidation_1-auc:0.89802\n",
      "[288]\tvalidation_0-auc:0.94314\tvalidation_1-auc:0.89803\n",
      "[289]\tvalidation_0-auc:0.94329\tvalidation_1-auc:0.89812\n",
      "[290]\tvalidation_0-auc:0.94337\tvalidation_1-auc:0.89820\n",
      "[291]\tvalidation_0-auc:0.94344\tvalidation_1-auc:0.89822\n",
      "[292]\tvalidation_0-auc:0.94349\tvalidation_1-auc:0.89818\n"
     ]
    },
    {
     "name": "stdout",
     "output_type": "stream",
     "text": [
      "[293]\tvalidation_0-auc:0.94362\tvalidation_1-auc:0.89829\n",
      "[294]\tvalidation_0-auc:0.94370\tvalidation_1-auc:0.89836\n",
      "[295]\tvalidation_0-auc:0.94376\tvalidation_1-auc:0.89838\n",
      "[296]\tvalidation_0-auc:0.94379\tvalidation_1-auc:0.89842\n",
      "[297]\tvalidation_0-auc:0.94383\tvalidation_1-auc:0.89840\n",
      "[298]\tvalidation_0-auc:0.94384\tvalidation_1-auc:0.89841\n",
      "[299]\tvalidation_0-auc:0.94385\tvalidation_1-auc:0.89841\n",
      "ROC AUC: 0.898416\n"
     ]
    }
   ],
   "source": [
    "# Evaluation method = Roc Auc, 100 to finish\n",
    "xgb_clf.fit(X_train, y_train, early_stopping_rounds = 100,\n",
    "            eval_metric=\"auc\", eval_set = [(X_train, y_train),(X_test, y_test)])\n",
    "xgb_roc_Score = roc_auc_score(y_test, xgb_clf.predict_proba(X_test)[:,1], average='macro')\n",
    "print('ROC AUC: {0:4f}'.format(xgb_roc_Score))"
   ]
  },
  {
   "cell_type": "markdown",
   "metadata": {},
   "source": [
    "We obtained the figure of 0.898416 (ROC AUC). \n",
    "XGBoost can overcome the Problem of Overfitting, as a result, there is a high possibility to increase the final figure, we have decided to stop in here, because takes a long time to run the test "
   ]
  },
  {
   "cell_type": "code",
   "execution_count": null,
   "metadata": {},
   "outputs": [],
   "source": []
  },
  {
   "cell_type": "markdown",
   "metadata": {},
   "source": [
    "# Stacking"
   ]
  },
  {
   "cell_type": "code",
   "execution_count": 86,
   "metadata": {},
   "outputs": [],
   "source": [
    "# List of ML MODELS\n",
    "\n",
    "knn_clf = KNeighborsClassifier(n_neighbors=4)\n",
    "rf_clf = RandomForestClassifier(n_estimators=100, random_state=0)\n",
    "dt_clf = DecisionTreeClassifier()\n",
    "ada_clf = AdaBoostClassifier(n_estimators=100)\n",
    "\n",
    "# Final model\n",
    "lr_final = LogisticRegression(C=10)"
   ]
  },
  {
   "cell_type": "code",
   "execution_count": 87,
   "metadata": {},
   "outputs": [
    {
     "data": {
      "text/plain": [
       "AdaBoostClassifier(algorithm='SAMME.R', base_estimator=None, learning_rate=1.0,\n",
       "                   n_estimators=100, random_state=None)"
      ]
     },
     "execution_count": 87,
     "metadata": {},
     "output_type": "execute_result"
    }
   ],
   "source": [
    "# Train with List of MLs\n",
    "knn_clf.fit(X_train, y_train)\n",
    "rf_clf.fit(X_train, y_train)\n",
    "dt_clf.fit(X_train, y_train)\n",
    "ada_clf.fit(X_train, y_train)"
   ]
  },
  {
   "cell_type": "code",
   "execution_count": 88,
   "metadata": {},
   "outputs": [],
   "source": [
    "# Test MLs\n",
    "knn_pred = knn_clf.predict(X_test)\n",
    "rf_pred = rf_clf.predict(X_test)\n",
    "dt_pred = dt_clf.predict(X_test)\n",
    "ada_pred = ada_clf.predict(X_test)"
   ]
  },
  {
   "cell_type": "code",
   "execution_count": 91,
   "metadata": {},
   "outputs": [
    {
     "name": "stdout",
     "output_type": "stream",
     "text": [
      "KNN : 0.8096439019469384\n",
      "Random Forest : 0.8338040956319984\n",
      "Decision Tree : 0.8018258852012509\n",
      "Adaboost : 0.7649551094522344\n"
     ]
    }
   ],
   "source": [
    "print('KNN :',accuracy_score(y_test,knn_pred))\n",
    "print('Random Forest :',accuracy_score(y_test,rf_pred))\n",
    "print('Decision Tree :',accuracy_score(y_test,dt_pred))\n",
    "print('Adaboost :',accuracy_score(y_test,ada_pred))"
   ]
  },
  {
   "cell_type": "code",
   "execution_count": 92,
   "metadata": {},
   "outputs": [
    {
     "name": "stdout",
     "output_type": "stream",
     "text": [
      "(4, 19826)\n",
      "(19826, 4)\n"
     ]
    }
   ],
   "source": [
    "# Put those in Rogistic Regression\n",
    "pred = np.array([knn_pred, rf_pred, dt_pred, ada_pred])\n",
    "print(pred.shape)\n",
    "\n",
    "pred = np.transpose(pred)\n",
    "print(pred.shape)"
   ]
  },
  {
   "cell_type": "code",
   "execution_count": 94,
   "metadata": {},
   "outputs": [
    {
     "name": "stdout",
     "output_type": "stream",
     "text": [
      "Final model : 0.8356703318874206\n"
     ]
    }
   ],
   "source": [
    "# Apply it to pre-made Logistic Regression\n",
    "lr_final.fit(pred, y_test)\n",
    "final = lr_final.predict(pred)\n",
    "\n",
    "print(\"Final model :\" , accuracy_score(y_test, final))"
   ]
  },
  {
   "cell_type": "code",
   "execution_count": null,
   "metadata": {},
   "outputs": [],
   "source": []
  }
 ],
 "metadata": {
  "kernelspec": {
   "display_name": "Python 3",
   "language": "python",
   "name": "python3"
  },
  "language_info": {
   "codemirror_mode": {
    "name": "ipython",
    "version": 3
   },
   "file_extension": ".py",
   "mimetype": "text/x-python",
   "name": "python",
   "nbconvert_exporter": "python",
   "pygments_lexer": "ipython3",
   "version": "3.7.6"
  }
 },
 "nbformat": 4,
 "nbformat_minor": 4
}
