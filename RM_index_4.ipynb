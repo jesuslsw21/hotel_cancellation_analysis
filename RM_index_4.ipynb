{
 "cells": [
  {
   "cell_type": "markdown",
   "metadata": {
    "Collapsed": "false"
   },
   "source": [
    "# 1. Problem Framing"
   ]
  },
  {
   "cell_type": "markdown",
   "metadata": {
    "Collapsed": "false"
   },
   "source": [
    "We are a data science consultancy that has been hired by a large hotel chain to investigate viable methods of mitigating the impact of short-notice customer cancellations. The approach taken in this analysis was to look at what characteristics of an individual may indicate that they are of a high probability to cancel. If an individual is deemed likely to cancel, they are charged a higher deposit at the point of purchase. This means that some of the lost revenue due to cancellation is recovered, thus reducing the overall cost to our client. We take ethics very seriously so for obvious reasons race, religion, gender and biological sex have not been considered. All customers will pay the same overall price (if they are purchasing the same product), it is only the initial deposit (as a % of the total price) that will change on a customer to customer basis."
   ]
  },
  {
   "cell_type": "markdown",
   "metadata": {},
   "source": [
    "# 2. Importing Libraries"
   ]
  },
  {
   "cell_type": "code",
   "execution_count": 1,
   "metadata": {},
   "outputs": [
    {
     "name": "stderr",
     "output_type": "stream",
     "text": [
      "/Users/ravimalde/opt/anaconda3/lib/python3.7/site-packages/sklearn/externals/six.py:31: DeprecationWarning: The module is deprecated in version 0.21 and will be removed in version 0.23 since we've dropped support for Python 2.7. Please rely on the official version of six (https://pypi.org/project/six/).\n",
      "  \"(https://pypi.org/project/six/).\", DeprecationWarning)\n"
     ]
    }
   ],
   "source": [
    "from IPython.display import display\n",
    "from IPython.display import Image\n",
    "import pydotplus\n",
    "from sklearn.externals.six import StringIO \n",
    "from subprocess import call\n",
    "\n",
    "import numpy as np\n",
    "import pandas as pd\n",
    "import itertools\n",
    "\n",
    "import matplotlib.pyplot as plt\n",
    "import matplotlib.image as mpimg\n",
    "%matplotlib inline\n",
    "import seaborn as sns\n",
    "\n",
    "from sklearn.model_selection import train_test_split, GridSearchCV, StratifiedKFold\n",
    "from sklearn.metrics import confusion_matrix, roc_curve, roc_auc_score, classification_report \n",
    "from sklearn.tree import DecisionTreeClassifier\n",
    "from sklearn.linear_model import LogisticRegression, LinearRegression\n",
    "from sklearn.svm import SVC\n",
    "from sklearn.ensemble import VotingClassifier, BaggingClassifier, AdaBoostClassifier, RandomForestClassifier\n",
    "from sklearn.preprocessing import StandardScaler, LabelEncoder, OneHotEncoder\n",
    "from xgboost.sklearn import XGBClassifier\n",
    "from deslib.static.stacked import StackedClassifier\n",
    "\n",
    "from sklearn import tree\n",
    "from sklearn.tree import export_graphviz\n",
    "\n",
    "import warnings\n",
    "warnings.filterwarnings('ignore')"
   ]
  },
  {
   "cell_type": "markdown",
   "metadata": {
    "Collapsed": "false"
   },
   "source": [
    "# 2. Exploratory Data Analysis"
   ]
  },
  {
   "cell_type": "code",
   "execution_count": 2,
   "metadata": {
    "Collapsed": "false"
   },
   "outputs": [],
   "source": [
    "df = pd.read_csv('H2.csv')"
   ]
  },
  {
   "cell_type": "code",
   "execution_count": 3,
   "metadata": {
    "Collapsed": "false"
   },
   "outputs": [
    {
     "data": {
      "text/html": [
       "<div>\n",
       "<style scoped>\n",
       "    .dataframe tbody tr th:only-of-type {\n",
       "        vertical-align: middle;\n",
       "    }\n",
       "\n",
       "    .dataframe tbody tr th {\n",
       "        vertical-align: top;\n",
       "    }\n",
       "\n",
       "    .dataframe thead th {\n",
       "        text-align: right;\n",
       "    }\n",
       "</style>\n",
       "<table border=\"1\" class=\"dataframe\">\n",
       "  <thead>\n",
       "    <tr style=\"text-align: right;\">\n",
       "      <th></th>\n",
       "      <th>IsCanceled</th>\n",
       "      <th>LeadTime</th>\n",
       "      <th>ArrivalDateYear</th>\n",
       "      <th>ArrivalDateMonth</th>\n",
       "      <th>ArrivalDateWeekNumber</th>\n",
       "      <th>ArrivalDateDayOfMonth</th>\n",
       "      <th>StaysInWeekendNights</th>\n",
       "      <th>StaysInWeekNights</th>\n",
       "      <th>Adults</th>\n",
       "      <th>Children</th>\n",
       "      <th>...</th>\n",
       "      <th>DepositType</th>\n",
       "      <th>Agent</th>\n",
       "      <th>Company</th>\n",
       "      <th>DaysInWaitingList</th>\n",
       "      <th>CustomerType</th>\n",
       "      <th>ADR</th>\n",
       "      <th>RequiredCarParkingSpaces</th>\n",
       "      <th>TotalOfSpecialRequests</th>\n",
       "      <th>ReservationStatus</th>\n",
       "      <th>ReservationStatusDate</th>\n",
       "    </tr>\n",
       "  </thead>\n",
       "  <tbody>\n",
       "    <tr>\n",
       "      <td>0</td>\n",
       "      <td>0</td>\n",
       "      <td>6</td>\n",
       "      <td>2015</td>\n",
       "      <td>July</td>\n",
       "      <td>27</td>\n",
       "      <td>1</td>\n",
       "      <td>0</td>\n",
       "      <td>2</td>\n",
       "      <td>1</td>\n",
       "      <td>0.0</td>\n",
       "      <td>...</td>\n",
       "      <td>No Deposit</td>\n",
       "      <td>6</td>\n",
       "      <td>NULL</td>\n",
       "      <td>0</td>\n",
       "      <td>Transient</td>\n",
       "      <td>0.0</td>\n",
       "      <td>0</td>\n",
       "      <td>0</td>\n",
       "      <td>Check-Out</td>\n",
       "      <td>2015-07-03</td>\n",
       "    </tr>\n",
       "    <tr>\n",
       "      <td>1</td>\n",
       "      <td>1</td>\n",
       "      <td>88</td>\n",
       "      <td>2015</td>\n",
       "      <td>July</td>\n",
       "      <td>27</td>\n",
       "      <td>1</td>\n",
       "      <td>0</td>\n",
       "      <td>4</td>\n",
       "      <td>2</td>\n",
       "      <td>0.0</td>\n",
       "      <td>...</td>\n",
       "      <td>No Deposit</td>\n",
       "      <td>9</td>\n",
       "      <td>NULL</td>\n",
       "      <td>0</td>\n",
       "      <td>Transient</td>\n",
       "      <td>76.5</td>\n",
       "      <td>0</td>\n",
       "      <td>1</td>\n",
       "      <td>Canceled</td>\n",
       "      <td>2015-07-01</td>\n",
       "    </tr>\n",
       "    <tr>\n",
       "      <td>2</td>\n",
       "      <td>1</td>\n",
       "      <td>65</td>\n",
       "      <td>2015</td>\n",
       "      <td>July</td>\n",
       "      <td>27</td>\n",
       "      <td>1</td>\n",
       "      <td>0</td>\n",
       "      <td>4</td>\n",
       "      <td>1</td>\n",
       "      <td>0.0</td>\n",
       "      <td>...</td>\n",
       "      <td>No Deposit</td>\n",
       "      <td>9</td>\n",
       "      <td>NULL</td>\n",
       "      <td>0</td>\n",
       "      <td>Transient</td>\n",
       "      <td>68.0</td>\n",
       "      <td>0</td>\n",
       "      <td>1</td>\n",
       "      <td>Canceled</td>\n",
       "      <td>2015-04-30</td>\n",
       "    </tr>\n",
       "    <tr>\n",
       "      <td>3</td>\n",
       "      <td>1</td>\n",
       "      <td>92</td>\n",
       "      <td>2015</td>\n",
       "      <td>July</td>\n",
       "      <td>27</td>\n",
       "      <td>1</td>\n",
       "      <td>2</td>\n",
       "      <td>4</td>\n",
       "      <td>2</td>\n",
       "      <td>0.0</td>\n",
       "      <td>...</td>\n",
       "      <td>No Deposit</td>\n",
       "      <td>9</td>\n",
       "      <td>NULL</td>\n",
       "      <td>0</td>\n",
       "      <td>Transient</td>\n",
       "      <td>76.5</td>\n",
       "      <td>0</td>\n",
       "      <td>2</td>\n",
       "      <td>Canceled</td>\n",
       "      <td>2015-06-23</td>\n",
       "    </tr>\n",
       "    <tr>\n",
       "      <td>4</td>\n",
       "      <td>1</td>\n",
       "      <td>100</td>\n",
       "      <td>2015</td>\n",
       "      <td>July</td>\n",
       "      <td>27</td>\n",
       "      <td>2</td>\n",
       "      <td>0</td>\n",
       "      <td>2</td>\n",
       "      <td>2</td>\n",
       "      <td>0.0</td>\n",
       "      <td>...</td>\n",
       "      <td>No Deposit</td>\n",
       "      <td>9</td>\n",
       "      <td>NULL</td>\n",
       "      <td>0</td>\n",
       "      <td>Transient</td>\n",
       "      <td>76.5</td>\n",
       "      <td>0</td>\n",
       "      <td>1</td>\n",
       "      <td>Canceled</td>\n",
       "      <td>2015-04-02</td>\n",
       "    </tr>\n",
       "  </tbody>\n",
       "</table>\n",
       "<p>5 rows × 31 columns</p>\n",
       "</div>"
      ],
      "text/plain": [
       "   IsCanceled  LeadTime  ArrivalDateYear ArrivalDateMonth  \\\n",
       "0           0         6             2015             July   \n",
       "1           1        88             2015             July   \n",
       "2           1        65             2015             July   \n",
       "3           1        92             2015             July   \n",
       "4           1       100             2015             July   \n",
       "\n",
       "   ArrivalDateWeekNumber  ArrivalDateDayOfMonth  StaysInWeekendNights  \\\n",
       "0                     27                      1                     0   \n",
       "1                     27                      1                     0   \n",
       "2                     27                      1                     0   \n",
       "3                     27                      1                     2   \n",
       "4                     27                      2                     0   \n",
       "\n",
       "   StaysInWeekNights  Adults  Children  ...      DepositType        Agent  \\\n",
       "0                  2       1       0.0  ...  No Deposit                 6   \n",
       "1                  4       2       0.0  ...  No Deposit                 9   \n",
       "2                  4       1       0.0  ...  No Deposit                 9   \n",
       "3                  4       2       0.0  ...  No Deposit                 9   \n",
       "4                  2       2       0.0  ...  No Deposit                 9   \n",
       "\n",
       "       Company DaysInWaitingList CustomerType   ADR  RequiredCarParkingSpaces  \\\n",
       "0         NULL                 0    Transient   0.0                         0   \n",
       "1         NULL                 0    Transient  76.5                         0   \n",
       "2         NULL                 0    Transient  68.0                         0   \n",
       "3         NULL                 0    Transient  76.5                         0   \n",
       "4         NULL                 0    Transient  76.5                         0   \n",
       "\n",
       "   TotalOfSpecialRequests ReservationStatus ReservationStatusDate  \n",
       "0                       0         Check-Out            2015-07-03  \n",
       "1                       1          Canceled            2015-07-01  \n",
       "2                       1          Canceled            2015-04-30  \n",
       "3                       2          Canceled            2015-06-23  \n",
       "4                       1          Canceled            2015-04-02  \n",
       "\n",
       "[5 rows x 31 columns]"
      ]
     },
     "execution_count": 3,
     "metadata": {},
     "output_type": "execute_result"
    }
   ],
   "source": [
    "df.head()"
   ]
  },
  {
   "cell_type": "markdown",
   "metadata": {
    "Collapsed": "false"
   },
   "source": [
    "# 3. Preprocessing"
   ]
  },
  {
   "cell_type": "code",
   "execution_count": 4,
   "metadata": {
    "Collapsed": "false"
   },
   "outputs": [
    {
     "data": {
      "image/png": "[encoded data removed]",
      "text/plain": [
       "<Figure size 1152x1152 with 20 Axes>"
      ]
     },
     "metadata": {
      "needs_background": "light"
     },
     "output_type": "display_data"
    }
   ],
   "source": [
    "df.hist(bins=30, figsize=(16,16))\n",
    "plt.show()"
   ]
  },
  {
   "cell_type": "code",
   "execution_count": 5,
   "metadata": {
    "Collapsed": "false"
   },
   "outputs": [
    {
     "data": {
      "text/plain": [
       "28"
      ]
     },
     "execution_count": 5,
     "metadata": {},
     "output_type": "execute_result"
    }
   ],
   "source": [
    "df.isna().sum().sum()"
   ]
  },
  {
   "cell_type": "code",
   "execution_count": 6,
   "metadata": {
    "Collapsed": "false"
   },
   "outputs": [],
   "source": [
    "df = df.dropna()"
   ]
  },
  {
   "cell_type": "code",
   "execution_count": 7,
   "metadata": {
    "Collapsed": "false"
   },
   "outputs": [
    {
     "data": {
      "text/plain": [
       "0"
      ]
     },
     "execution_count": 7,
     "metadata": {},
     "output_type": "execute_result"
    }
   ],
   "source": [
    "df.isna().sum().sum()"
   ]
  },
  {
   "cell_type": "code",
   "execution_count": 8,
   "metadata": {
    "Collapsed": "false"
   },
   "outputs": [],
   "source": [
    "df.reset_index(drop=True, inplace=True)"
   ]
  },
  {
   "cell_type": "code",
   "execution_count": 9,
   "metadata": {
    "Collapsed": "false"
   },
   "outputs": [],
   "source": [
    "df.drop(columns=['ReservationStatusDate', 'ReservationStatus'], inplace=True)"
   ]
  },
  {
   "cell_type": "code",
   "execution_count": 10,
   "metadata": {
    "Collapsed": "false"
   },
   "outputs": [],
   "source": [
    "y = df[['IsCanceled']]\n",
    "X = df.drop(columns=['IsCanceled','ArrivalDateYear'])"
   ]
  },
  {
   "cell_type": "code",
   "execution_count": 11,
   "metadata": {
    "Collapsed": "false"
   },
   "outputs": [],
   "source": [
    "num_features = ['LeadTime',\n",
    "            'StaysInWeekendNights',\n",
    "            'StaysInWeekNights',\n",
    "            'Adults',\n",
    "            'Children',\n",
    "            'Babies',\n",
    "            'PreviousCancellations',\n",
    "            'PreviousBookingsNotCanceled',\n",
    "            'BookingChanges',\n",
    "            'DaysInWaitingList',\n",
    "            'ADR',\n",
    "            'RequiredCarParkingSpaces',\n",
    "            'TotalOfSpecialRequests']\n",
    "\n",
    "df_num = X[num_features]\n",
    "\n",
    "df_cat = X.drop(columns=num_features)\n",
    "\n",
    "cat_features = list(df_cat.columns)"
   ]
  },
  {
   "cell_type": "code",
   "execution_count": 12,
   "metadata": {
    "Collapsed": "false"
   },
   "outputs": [],
   "source": [
    "X = pd.get_dummies(X, columns=cat_features, drop_first=True)"
   ]
  },
  {
   "cell_type": "code",
   "execution_count": 13,
   "metadata": {
    "Collapsed": "false"
   },
   "outputs": [
    {
     "data": {
      "text/plain": [
       "LeadTime                        0\n",
       "StaysInWeekendNights            0\n",
       "StaysInWeekNights               0\n",
       "Adults                          0\n",
       "Children                        0\n",
       "                               ..\n",
       "Company_        497             0\n",
       "Company_       NULL             0\n",
       "CustomerType_Group              0\n",
       "CustomerType_Transient          0\n",
       "CustomerType_Transient-Party    0\n",
       "Length: 733, dtype: int64"
      ]
     },
     "execution_count": 13,
     "metadata": {},
     "output_type": "execute_result"
    }
   ],
   "source": [
    "X.isnull().sum()"
   ]
  },
  {
   "cell_type": "code",
   "execution_count": 14,
   "metadata": {},
   "outputs": [
    {
     "data": {
      "text/html": [
       "<div>\n",
       "<style scoped>\n",
       "    .dataframe tbody tr th:only-of-type {\n",
       "        vertical-align: middle;\n",
       "    }\n",
       "\n",
       "    .dataframe tbody tr th {\n",
       "        vertical-align: top;\n",
       "    }\n",
       "\n",
       "    .dataframe thead th {\n",
       "        text-align: right;\n",
       "    }\n",
       "</style>\n",
       "<table border=\"1\" class=\"dataframe\">\n",
       "  <thead>\n",
       "    <tr style=\"text-align: right;\">\n",
       "      <th></th>\n",
       "      <th>LeadTime</th>\n",
       "      <th>StaysInWeekendNights</th>\n",
       "      <th>StaysInWeekNights</th>\n",
       "      <th>Adults</th>\n",
       "      <th>Children</th>\n",
       "      <th>Babies</th>\n",
       "      <th>PreviousCancellations</th>\n",
       "      <th>PreviousBookingsNotCanceled</th>\n",
       "      <th>BookingChanges</th>\n",
       "      <th>DaysInWaitingList</th>\n",
       "      <th>...</th>\n",
       "      <th>Company_        486</th>\n",
       "      <th>Company_        489</th>\n",
       "      <th>Company_        491</th>\n",
       "      <th>Company_        492</th>\n",
       "      <th>Company_        494</th>\n",
       "      <th>Company_        497</th>\n",
       "      <th>Company_       NULL</th>\n",
       "      <th>CustomerType_Group</th>\n",
       "      <th>CustomerType_Transient</th>\n",
       "      <th>CustomerType_Transient-Party</th>\n",
       "    </tr>\n",
       "  </thead>\n",
       "  <tbody>\n",
       "    <tr>\n",
       "      <td>0</td>\n",
       "      <td>6</td>\n",
       "      <td>0</td>\n",
       "      <td>2</td>\n",
       "      <td>1</td>\n",
       "      <td>0.0</td>\n",
       "      <td>0</td>\n",
       "      <td>0</td>\n",
       "      <td>0</td>\n",
       "      <td>0</td>\n",
       "      <td>0</td>\n",
       "      <td>...</td>\n",
       "      <td>0</td>\n",
       "      <td>0</td>\n",
       "      <td>0</td>\n",
       "      <td>0</td>\n",
       "      <td>0</td>\n",
       "      <td>0</td>\n",
       "      <td>1</td>\n",
       "      <td>0</td>\n",
       "      <td>1</td>\n",
       "      <td>0</td>\n",
       "    </tr>\n",
       "    <tr>\n",
       "      <td>1</td>\n",
       "      <td>88</td>\n",
       "      <td>0</td>\n",
       "      <td>4</td>\n",
       "      <td>2</td>\n",
       "      <td>0.0</td>\n",
       "      <td>0</td>\n",
       "      <td>0</td>\n",
       "      <td>0</td>\n",
       "      <td>0</td>\n",
       "      <td>0</td>\n",
       "      <td>...</td>\n",
       "      <td>0</td>\n",
       "      <td>0</td>\n",
       "      <td>0</td>\n",
       "      <td>0</td>\n",
       "      <td>0</td>\n",
       "      <td>0</td>\n",
       "      <td>1</td>\n",
       "      <td>0</td>\n",
       "      <td>1</td>\n",
       "      <td>0</td>\n",
       "    </tr>\n",
       "    <tr>\n",
       "      <td>2</td>\n",
       "      <td>65</td>\n",
       "      <td>0</td>\n",
       "      <td>4</td>\n",
       "      <td>1</td>\n",
       "      <td>0.0</td>\n",
       "      <td>0</td>\n",
       "      <td>0</td>\n",
       "      <td>0</td>\n",
       "      <td>0</td>\n",
       "      <td>0</td>\n",
       "      <td>...</td>\n",
       "      <td>0</td>\n",
       "      <td>0</td>\n",
       "      <td>0</td>\n",
       "      <td>0</td>\n",
       "      <td>0</td>\n",
       "      <td>0</td>\n",
       "      <td>1</td>\n",
       "      <td>0</td>\n",
       "      <td>1</td>\n",
       "      <td>0</td>\n",
       "    </tr>\n",
       "    <tr>\n",
       "      <td>3</td>\n",
       "      <td>92</td>\n",
       "      <td>2</td>\n",
       "      <td>4</td>\n",
       "      <td>2</td>\n",
       "      <td>0.0</td>\n",
       "      <td>0</td>\n",
       "      <td>0</td>\n",
       "      <td>0</td>\n",
       "      <td>0</td>\n",
       "      <td>0</td>\n",
       "      <td>...</td>\n",
       "      <td>0</td>\n",
       "      <td>0</td>\n",
       "      <td>0</td>\n",
       "      <td>0</td>\n",
       "      <td>0</td>\n",
       "      <td>0</td>\n",
       "      <td>1</td>\n",
       "      <td>0</td>\n",
       "      <td>1</td>\n",
       "      <td>0</td>\n",
       "    </tr>\n",
       "    <tr>\n",
       "      <td>4</td>\n",
       "      <td>100</td>\n",
       "      <td>0</td>\n",
       "      <td>2</td>\n",
       "      <td>2</td>\n",
       "      <td>0.0</td>\n",
       "      <td>0</td>\n",
       "      <td>0</td>\n",
       "      <td>0</td>\n",
       "      <td>0</td>\n",
       "      <td>0</td>\n",
       "      <td>...</td>\n",
       "      <td>0</td>\n",
       "      <td>0</td>\n",
       "      <td>0</td>\n",
       "      <td>0</td>\n",
       "      <td>0</td>\n",
       "      <td>0</td>\n",
       "      <td>1</td>\n",
       "      <td>0</td>\n",
       "      <td>1</td>\n",
       "      <td>0</td>\n",
       "    </tr>\n",
       "  </tbody>\n",
       "</table>\n",
       "<p>5 rows × 733 columns</p>\n",
       "</div>"
      ],
      "text/plain": [
       "   LeadTime  StaysInWeekendNights  StaysInWeekNights  Adults  Children  \\\n",
       "0         6                     0                  2       1       0.0   \n",
       "1        88                     0                  4       2       0.0   \n",
       "2        65                     0                  4       1       0.0   \n",
       "3        92                     2                  4       2       0.0   \n",
       "4       100                     0                  2       2       0.0   \n",
       "\n",
       "   Babies  PreviousCancellations  PreviousBookingsNotCanceled  BookingChanges  \\\n",
       "0       0                      0                            0               0   \n",
       "1       0                      0                            0               0   \n",
       "2       0                      0                            0               0   \n",
       "3       0                      0                            0               0   \n",
       "4       0                      0                            0               0   \n",
       "\n",
       "   DaysInWaitingList  ...  Company_        486  Company_        489  \\\n",
       "0                  0  ...                    0                    0   \n",
       "1                  0  ...                    0                    0   \n",
       "2                  0  ...                    0                    0   \n",
       "3                  0  ...                    0                    0   \n",
       "4                  0  ...                    0                    0   \n",
       "\n",
       "   Company_        491  Company_        492  Company_        494  \\\n",
       "0                    0                    0                    0   \n",
       "1                    0                    0                    0   \n",
       "2                    0                    0                    0   \n",
       "3                    0                    0                    0   \n",
       "4                    0                    0                    0   \n",
       "\n",
       "   Company_        497  Company_       NULL  CustomerType_Group  \\\n",
       "0                    0                    1                   0   \n",
       "1                    0                    1                   0   \n",
       "2                    0                    1                   0   \n",
       "3                    0                    1                   0   \n",
       "4                    0                    1                   0   \n",
       "\n",
       "   CustomerType_Transient  CustomerType_Transient-Party  \n",
       "0                       1                             0  \n",
       "1                       1                             0  \n",
       "2                       1                             0  \n",
       "3                       1                             0  \n",
       "4                       1                             0  \n",
       "\n",
       "[5 rows x 733 columns]"
      ]
     },
     "execution_count": 14,
     "metadata": {},
     "output_type": "execute_result"
    }
   ],
   "source": [
    "X.head()"
   ]
  },
  {
   "cell_type": "markdown",
   "metadata": {
    "Collapsed": "false"
   },
   "source": [
    "# 4. Modelling"
   ]
  },
  {
   "cell_type": "markdown",
   "metadata": {
    "Collapsed": "false"
   },
   "source": [
    "## 4.2. Scaling"
   ]
  },
  {
   "cell_type": "code",
   "execution_count": 15,
   "metadata": {},
   "outputs": [],
   "source": [
    "X_2 = X.drop(columns=num_features)"
   ]
  },
  {
   "cell_type": "code",
   "execution_count": 16,
   "metadata": {},
   "outputs": [],
   "source": [
    "scaler = StandardScaler()\n",
    "X_s = pd.DataFrame(scaler.fit_transform(X[num_features]))"
   ]
  },
  {
   "cell_type": "code",
   "execution_count": 17,
   "metadata": {},
   "outputs": [],
   "source": [
    "X_s.columns = num_features"
   ]
  },
  {
   "cell_type": "code",
   "execution_count": 18,
   "metadata": {},
   "outputs": [],
   "source": [
    "X_s = pd.concat([X_s, X_2], axis=1)"
   ]
  },
  {
   "cell_type": "code",
   "execution_count": 19,
   "metadata": {},
   "outputs": [
    {
     "data": {
      "text/html": [
       "<div>\n",
       "<style scoped>\n",
       "    .dataframe tbody tr th:only-of-type {\n",
       "        vertical-align: middle;\n",
       "    }\n",
       "\n",
       "    .dataframe tbody tr th {\n",
       "        vertical-align: top;\n",
       "    }\n",
       "\n",
       "    .dataframe thead th {\n",
       "        text-align: right;\n",
       "    }\n",
       "</style>\n",
       "<table border=\"1\" class=\"dataframe\">\n",
       "  <thead>\n",
       "    <tr style=\"text-align: right;\">\n",
       "      <th></th>\n",
       "      <th>LeadTime</th>\n",
       "      <th>StaysInWeekendNights</th>\n",
       "      <th>StaysInWeekNights</th>\n",
       "      <th>Adults</th>\n",
       "      <th>Children</th>\n",
       "      <th>Babies</th>\n",
       "      <th>PreviousCancellations</th>\n",
       "      <th>PreviousBookingsNotCanceled</th>\n",
       "      <th>BookingChanges</th>\n",
       "      <th>DaysInWaitingList</th>\n",
       "      <th>...</th>\n",
       "      <th>Company_        486</th>\n",
       "      <th>Company_        489</th>\n",
       "      <th>Company_        491</th>\n",
       "      <th>Company_        492</th>\n",
       "      <th>Company_        494</th>\n",
       "      <th>Company_        497</th>\n",
       "      <th>Company_       NULL</th>\n",
       "      <th>CustomerType_Group</th>\n",
       "      <th>CustomerType_Transient</th>\n",
       "      <th>CustomerType_Transient-Party</th>\n",
       "    </tr>\n",
       "  </thead>\n",
       "  <tbody>\n",
       "    <tr>\n",
       "      <td>0</td>\n",
       "      <td>-0.934996</td>\n",
       "      <td>-0.898710</td>\n",
       "      <td>-0.125608</td>\n",
       "      <td>-1.672123</td>\n",
       "      <td>-0.245542</td>\n",
       "      <td>-0.058611</td>\n",
       "      <td>-0.191969</td>\n",
       "      <td>-0.078183</td>\n",
       "      <td>-0.30792</td>\n",
       "      <td>-0.154635</td>\n",
       "      <td>...</td>\n",
       "      <td>0</td>\n",
       "      <td>0</td>\n",
       "      <td>0</td>\n",
       "      <td>0</td>\n",
       "      <td>0</td>\n",
       "      <td>0</td>\n",
       "      <td>1</td>\n",
       "      <td>0</td>\n",
       "      <td>1</td>\n",
       "      <td>0</td>\n",
       "    </tr>\n",
       "    <tr>\n",
       "      <td>1</td>\n",
       "      <td>-0.195941</td>\n",
       "      <td>-0.898710</td>\n",
       "      <td>1.247936</td>\n",
       "      <td>0.292478</td>\n",
       "      <td>-0.245542</td>\n",
       "      <td>-0.058611</td>\n",
       "      <td>-0.191969</td>\n",
       "      <td>-0.078183</td>\n",
       "      <td>-0.30792</td>\n",
       "      <td>-0.154635</td>\n",
       "      <td>...</td>\n",
       "      <td>0</td>\n",
       "      <td>0</td>\n",
       "      <td>0</td>\n",
       "      <td>0</td>\n",
       "      <td>0</td>\n",
       "      <td>0</td>\n",
       "      <td>1</td>\n",
       "      <td>0</td>\n",
       "      <td>1</td>\n",
       "      <td>0</td>\n",
       "    </tr>\n",
       "    <tr>\n",
       "      <td>2</td>\n",
       "      <td>-0.403237</td>\n",
       "      <td>-0.898710</td>\n",
       "      <td>1.247936</td>\n",
       "      <td>-1.672123</td>\n",
       "      <td>-0.245542</td>\n",
       "      <td>-0.058611</td>\n",
       "      <td>-0.191969</td>\n",
       "      <td>-0.078183</td>\n",
       "      <td>-0.30792</td>\n",
       "      <td>-0.154635</td>\n",
       "      <td>...</td>\n",
       "      <td>0</td>\n",
       "      <td>0</td>\n",
       "      <td>0</td>\n",
       "      <td>0</td>\n",
       "      <td>0</td>\n",
       "      <td>0</td>\n",
       "      <td>1</td>\n",
       "      <td>0</td>\n",
       "      <td>1</td>\n",
       "      <td>0</td>\n",
       "    </tr>\n",
       "    <tr>\n",
       "      <td>3</td>\n",
       "      <td>-0.159890</td>\n",
       "      <td>1.361231</td>\n",
       "      <td>1.247936</td>\n",
       "      <td>0.292478</td>\n",
       "      <td>-0.245542</td>\n",
       "      <td>-0.058611</td>\n",
       "      <td>-0.191969</td>\n",
       "      <td>-0.078183</td>\n",
       "      <td>-0.30792</td>\n",
       "      <td>-0.154635</td>\n",
       "      <td>...</td>\n",
       "      <td>0</td>\n",
       "      <td>0</td>\n",
       "      <td>0</td>\n",
       "      <td>0</td>\n",
       "      <td>0</td>\n",
       "      <td>0</td>\n",
       "      <td>1</td>\n",
       "      <td>0</td>\n",
       "      <td>1</td>\n",
       "      <td>0</td>\n",
       "    </tr>\n",
       "    <tr>\n",
       "      <td>4</td>\n",
       "      <td>-0.087787</td>\n",
       "      <td>-0.898710</td>\n",
       "      <td>-0.125608</td>\n",
       "      <td>0.292478</td>\n",
       "      <td>-0.245542</td>\n",
       "      <td>-0.058611</td>\n",
       "      <td>-0.191969</td>\n",
       "      <td>-0.078183</td>\n",
       "      <td>-0.30792</td>\n",
       "      <td>-0.154635</td>\n",
       "      <td>...</td>\n",
       "      <td>0</td>\n",
       "      <td>0</td>\n",
       "      <td>0</td>\n",
       "      <td>0</td>\n",
       "      <td>0</td>\n",
       "      <td>0</td>\n",
       "      <td>1</td>\n",
       "      <td>0</td>\n",
       "      <td>1</td>\n",
       "      <td>0</td>\n",
       "    </tr>\n",
       "  </tbody>\n",
       "</table>\n",
       "<p>5 rows × 733 columns</p>\n",
       "</div>"
      ],
      "text/plain": [
       "   LeadTime  StaysInWeekendNights  StaysInWeekNights    Adults  Children  \\\n",
       "0 -0.934996             -0.898710          -0.125608 -1.672123 -0.245542   \n",
       "1 -0.195941             -0.898710           1.247936  0.292478 -0.245542   \n",
       "2 -0.403237             -0.898710           1.247936 -1.672123 -0.245542   \n",
       "3 -0.159890              1.361231           1.247936  0.292478 -0.245542   \n",
       "4 -0.087787             -0.898710          -0.125608  0.292478 -0.245542   \n",
       "\n",
       "     Babies  PreviousCancellations  PreviousBookingsNotCanceled  \\\n",
       "0 -0.058611              -0.191969                    -0.078183   \n",
       "1 -0.058611              -0.191969                    -0.078183   \n",
       "2 -0.058611              -0.191969                    -0.078183   \n",
       "3 -0.058611              -0.191969                    -0.078183   \n",
       "4 -0.058611              -0.191969                    -0.078183   \n",
       "\n",
       "   BookingChanges  DaysInWaitingList  ...  Company_        486  \\\n",
       "0        -0.30792          -0.154635  ...                    0   \n",
       "1        -0.30792          -0.154635  ...                    0   \n",
       "2        -0.30792          -0.154635  ...                    0   \n",
       "3        -0.30792          -0.154635  ...                    0   \n",
       "4        -0.30792          -0.154635  ...                    0   \n",
       "\n",
       "   Company_        489  Company_        491  Company_        492  \\\n",
       "0                    0                    0                    0   \n",
       "1                    0                    0                    0   \n",
       "2                    0                    0                    0   \n",
       "3                    0                    0                    0   \n",
       "4                    0                    0                    0   \n",
       "\n",
       "   Company_        494  Company_        497  Company_       NULL  \\\n",
       "0                    0                    0                    1   \n",
       "1                    0                    0                    1   \n",
       "2                    0                    0                    1   \n",
       "3                    0                    0                    1   \n",
       "4                    0                    0                    1   \n",
       "\n",
       "   CustomerType_Group  CustomerType_Transient  CustomerType_Transient-Party  \n",
       "0                   0                       1                             0  \n",
       "1                   0                       1                             0  \n",
       "2                   0                       1                             0  \n",
       "3                   0                       1                             0  \n",
       "4                   0                       1                             0  \n",
       "\n",
       "[5 rows x 733 columns]"
      ]
     },
     "execution_count": 19,
     "metadata": {},
     "output_type": "execute_result"
    }
   ],
   "source": [
    "X_s.head()"
   ]
  },
  {
   "cell_type": "markdown",
   "metadata": {},
   "source": [
    "## 4.3. Train-Test split"
   ]
  },
  {
   "cell_type": "code",
   "execution_count": 20,
   "metadata": {
    "Collapsed": "false"
   },
   "outputs": [],
   "source": [
    "X_train_initial, X_test, y_train_initial, y_test = train_test_split(X_s, \n",
    "                                                                    y, \n",
    "                                                                    test_size=0.25, \n",
    "                                                                    random_state=50)"
   ]
  },
  {
   "cell_type": "code",
   "execution_count": 21,
   "metadata": {},
   "outputs": [],
   "source": [
    "X_train, X_val, y_train, y_val = train_test_split(X_train_initial, \n",
    "                                                  y_train_initial, \n",
    "                                                  test_size=0.25,\n",
    "                                                  random_state=50)"
   ]
  },
  {
   "cell_type": "markdown",
   "metadata": {
    "Collapsed": "false"
   },
   "source": [
    "## 4.4. Modelling Class"
   ]
  },
  {
   "cell_type": "code",
   "execution_count": 22,
   "metadata": {
    "Collapsed": "false"
   },
   "outputs": [],
   "source": [
    "skf = StratifiedKFold(n_splits=3,random_state=50)"
   ]
  },
  {
   "cell_type": "code",
   "execution_count": 23,
   "metadata": {
    "Collapsed": "false"
   },
   "outputs": [],
   "source": [
    "class Classification():\n",
    "    \n",
    "    def __init__(self, , model, X_train, X_val, y_train, y_val):\n",
    "        self.model = model\n",
    "        self.X_train = X_train\n",
    "        self.y_train = y_train\n",
    "        self.X_val = X_val\n",
    "        self.y_val = y_val\n",
    "        self.scores_table = pd.DataFrame()\n",
    "        \n",
    "        if self.model == 'Logistic Regression':\n",
    "            self.instantiate = LogisticRegression(fit_intercept=False)\n",
    "        elif self.model == 'Decision Tree':\n",
    "            self.instantiate = DecisionTreeClassifier(random_state=50)\n",
    "        elif self.model == 'Random Forest':\n",
    "            self.instantiate = RandomForestClassifier(n_estimators=20, \n",
    "                                                          n_jobs=-1,\n",
    "                                                          random_state=42)\n",
    "        elif self.model == \"SVM\":\n",
    "            self.instantiate = SVC(probability=True,\n",
    "                                   random_state=50)\n",
    "        \n",
    "# SCORE FUNCTION -------------------------------------------------------------\n",
    "        \n",
    "    def scores(self, model, X_train, X_val, y_train, y_val):\n",
    "        \n",
    "        train_prob = model.predict_proba(X_train)[:,1]\n",
    "        val_prob = model.predict_proba(X_val)[:,1]\n",
    "        \n",
    "        train_auc = roc_auc_score(y_train, train_prob)\n",
    "        val_auc = roc_auc_score(y_val, val_prob)\n",
    "        \n",
    "        self.train_auc = train_auc\n",
    "        self.val_auc = val_auc\n",
    "        \n",
    "        self.scores_table = pd.DataFrame()\n",
    "        \n",
    "        self.scores_table[\"Model\"] = [self.model]\n",
    "        self.scores_table[\"Train AUC\"] = [self.train_auc]\n",
    "        self.scores_table[\"Validation AUC\"] = [self.val_auc]\n",
    "        \n",
    "        return self.scores_table\n",
    "    \n",
    "# THRESHOLD ANNOTATION -------------------------------------------------------\n",
    "\n",
    "\n",
    "    def annot(fpr,tpr,thr):\n",
    "        k=0\n",
    "        for i,j in zip(fpr,tpr):\n",
    "            if k % 100 == 0:\n",
    "                plt.annotate(round(thr[k],2),xy=(i,j), textcoords='data')\n",
    "            k+=1\n",
    "            \n",
    "# ROC PLOT FUNCTION ----------------------------------------------------------\n",
    "\n",
    "    def roc_plot(model, X_train, X_val, y_train, y_val):\n",
    "        train_prob = model.predict_proba(X_train)[:,1]\n",
    "        val_prob = model.predict_proba(X_val)[:,1]\n",
    "        plt.figure(figsize=(7,7))\n",
    "        for data in [[y_train, train_prob],[y_val, val_prob]]:\n",
    "            fpr, tpr, thresh = roc_curve(data[0], data[1])\n",
    "            plt.plot(fpr, tpr)\n",
    "        Classification.annot(fpr, tpr, thresh)\n",
    "        plt.plot([0, 1], [0, 1], color='navy', linestyle='--')\n",
    "        plt.ylabel('TPR (power)')\n",
    "        plt.xlabel('FPR (alpha)')\n",
    "        plt.legend(['train','val'])\n",
    "        plt.show()\n",
    "        \n",
    "# GET SCORES FUNCTION --------------------------------------------------------\n",
    "\n",
    "    def get_scores(self, param_grid, cv_type):\n",
    "        reg = self.instantiate\n",
    "        fit_reg = reg.fit(self.X_train, self.y_train)\n",
    "        opt_model = GridSearchCV(fit_reg,\n",
    "                                 param_grid,\n",
    "                                 cv=cv_type,\n",
    "                                 scoring='roc_auc',\n",
    "                                 return_train_score=True,\n",
    "                                 n_jobs=-1)\n",
    "        self.opt_model = opt_model.fit(self.X_train, self.y_train) \n",
    "        self.best_model = opt_model.best_estimator_\n",
    "        self.scores = Classification.scores(self,\n",
    "                                            self.best_model,\n",
    "                                            self.X_train,\n",
    "                                            self.X_val,\n",
    "                                            self.y_train,\n",
    "                                            self.y_val)\n",
    "        self.best_params = opt_model.best_params_\n",
    "        display(self.scores_table)\n",
    "        print(\"The best hyperparameters are: \", self.best_params,'\\n')\n",
    "        self.roc_plot = Classification.roc_plot(self.best_model,\n",
    "                                                self.X_train,\n",
    "                                                self.X_val,\n",
    "                                                self.y_train,\n",
    "                                                self.y_val)\n",
    "        self.y_predicted = opt_model.predict(self.X_val)\n",
    "        \n",
    "# OPTIMUM PLOT FUCNTION ------------------------------------------------------\n",
    "\n",
    "    def opt_plots(self):\n",
    "        \n",
    "        if self.model == \"Decision Tree\" or self.model == \"Random Forest\":\n",
    "            opt = pd.DataFrame(self.opt_model.cv_results_)\n",
    "            cols = [col for col in opt.columns if ('mean' in col or 'std' in col) and 'time' not in col]\n",
    "            params = pd.DataFrame(list(opt.params))\n",
    "            opt = pd.concat([params, opt[cols]], axis=1, sort=False)\n",
    "            \n",
    "            plt.figure(figsize=[15,4])\n",
    "            plt.subplot(121)\n",
    "            sns.heatmap(pd.pivot_table(opt,\n",
    "                                       index='max_depth',\n",
    "                                       columns='min_samples_leaf',\n",
    "                                       values='mean_train_score')*100)\n",
    "            plt.title('ROC_AUC - Training')\n",
    "            plt.subplot(122)\n",
    "            sns.heatmap(pd.pivot_table(opt,\n",
    "                                       index='max_depth',\n",
    "                                       columns='min_samples_leaf',\n",
    "                                       values='mean_test_score')*100)\n",
    "            plt.title('ROC_AUC - Validation')\n",
    "            \n",
    "        else:\n",
    "            print(\"This model does not have an optimum hyperparameter plot!\")\n",
    "        \n",
    "# CONFUSION MATRIX FUNCTION --------------------------------------------------\n",
    "\n",
    "    def conf_matrix(y_true, y_pred):\n",
    "        \n",
    "        cm = {'TP': 0, 'TN': 0, 'FP': 0, 'FN': 0}\n",
    "        \n",
    "        for i, label in enumerate(y_true):\n",
    "            \n",
    "            pred = y_pred[i]\n",
    "            if label == 1:\n",
    "                if label == pred:\n",
    "                    cm['TP'] += 1\n",
    "                else:\n",
    "                    cm['FN'] += 1\n",
    "            else:\n",
    "                if label == pred:\n",
    "                    cm['TN'] += 1\n",
    "                else:\n",
    "                    cm['FP'] += 1\n",
    "                \n",
    "        return cm\n",
    "        \n",
    "# DISPLAY PRETTY CONFUSION MATRIX FUNCTION -----------------------------------\n",
    "\n",
    "    def pretty_conf_matrix(self):\n",
    "        \n",
    "        Classification.conf_matrix(self.y_val, self.y_predicted)\n",
    "        cnf_matrix = confusion_matrix(self.y_val, self.y_predicted)\n",
    "        \n",
    "        plt.figure(figsize=(6,6))\n",
    "        plt.imshow(cnf_matrix, cmap=plt.cm.Greens)\n",
    "        \n",
    "        plt.title('Confusion Matrix')\n",
    "        plt.ylabel('True label')\n",
    "        plt.xlabel('Predicted label')\n",
    "        \n",
    "        class_names = set(y)\n",
    "        tick_marks = np.arange(len(class_names))\n",
    "        plt.xticks(tick_marks, class_names, rotation=45)\n",
    "        plt.yticks(tick_marks, class_names)\n",
    "\n",
    "        thresh = cnf_matrix.max() / 2.\n",
    "        for i, j in itertools.product(range(cnf_matrix.shape[0]), range(cnf_matrix.shape[1])):\n",
    "                plt.text(j, i, cnf_matrix[i, j],\n",
    "                         horizontalalignment='center')\n",
    "        plt.colorbar\n",
    "\n",
    "# PLOT DECISION TREE FUCNTION ------------------------------------------------\n",
    "\n",
    "    def plot_dtree(self):\n",
    "        \n",
    "        if self.model == \"Decision Tree\" or self.model == \"Random Forest\":\n",
    "            \n",
    "            dot_data = StringIO()\n",
    "            export_graphviz(self.best_model, \n",
    "                            out_file=dot_data, \n",
    "                            filled=True,\n",
    "                            rounded=True,\n",
    "                            special_characters=True)\n",
    "            graph = pydotplus.graph_from_dot_data(dot_data.getvalue())\n",
    "            graph.write_png(f'{self.model}.png')\n",
    "            image = mpimg.imread(f'{self.model}.png')\n",
    "            plt.figure(figsize=(50,50))\n",
    "            plt.imshow(image)\n",
    "            plt.show()\n",
    "            \n",
    "        else:\n",
    "            \n",
    "            print(\"This model does not have a decision tree plot!\")\n",
    "        "
   ]
  },
  {
   "cell_type": "code",
   "execution_count": 64,
   "metadata": {},
   "outputs": [],
   "source": [
    "class Ensemble(Classification):\n",
    "    \n",
    "    def __init__(self, ensemble_method, estimators, X_train, X_val, y_train, y_val):\n",
    "        \n",
    "        self.ensemble_method = ensemble_method\n",
    "        self.X_train = X_train\n",
    "        self.y_train = y_train\n",
    "        self.X_val = X_val\n",
    "        self.y_val = y_val\n",
    "        \n",
    "        if self.ensemble_method == \"Voting\":\n",
    "            self.instantiate = VotingClassifier(estimators=estimators, voting='soft')\n",
    "            \n",
    "    def ensemble_scores(self):\n",
    "\n",
    "        train_prob = self.instantiate.predict_proba(self.X_train)[:,1]\n",
    "        val_prob = self.instantiate.predict_proba(self.X_val)[:,1]\n",
    "\n",
    "        train_auc = roc_auc_score(self.y_train, train_prob)\n",
    "        val_auc = roc_auc_score(self.y_val, val_prob)\n",
    "\n",
    "        self.train_auc = train_auc\n",
    "        self.val_auc = val_auc\n",
    "\n",
    "        self.scores_table = pd.DataFrame()\n",
    "\n",
    "        self.scores_table[\"Model\"] = [self.ensemble_method]\n",
    "        self.scores_table[\"Train AUC\"] = [self.train_auc]\n",
    "        self.scores_table[\"Validation AUC\"] = [self.val_auc]\n",
    "\n",
    "        return self.scores_table\n",
    "    \n",
    "    def ensemble_get_scores(self, param_grid, cv_type):\n",
    "        reg = self.instantiate\n",
    "        fit_reg = reg.fit(self.X_train, self.y_train)\n",
    "        opt_model = GridSearchCV(fit_reg,\n",
    "                                 param_grid,\n",
    "                                 cv=cv_type,\n",
    "                                 scoring='roc_auc',\n",
    "                                 return_train_score=True,\n",
    "                                 n_jobs=-1)\n",
    "        self.opt_model = opt_model.fit(self.X_train, self.y_train) \n",
    "        self.best_model = opt_model.best_estimator_\n",
    "        self.scores = Ensemble.ensemble_scores(self)\n",
    "        self.best_params = opt_model.best_params_\n",
    "        display(self.scores_table)\n",
    "        print(\"The best hyperparameters are: \", self.best_params,'\\n')\n",
    "        self.roc_plot = Classification.roc_plot(self.best_model,\n",
    "                                                self.X_train,\n",
    "                                                self.X_val,\n",
    "                                                self.y_train,\n",
    "                                                self.y_val)\n",
    "        self.y_predicted = opt_model.predict(self.X_val)\n",
    "        \n",
    "    def conf_matrix(y_true, y_pred):\n",
    "        \n",
    "        cm = {'TP': 0, 'TN': 0, 'FP': 0, 'FN': 0}\n",
    "        \n",
    "        for i, label in enumerate(y_true):\n",
    "            \n",
    "            pred = y_pred[i]\n",
    "            if label == 1:\n",
    "                if label == pred:\n",
    "                    cm['TP'] += 1\n",
    "                else:\n",
    "                    cm['FN'] += 1\n",
    "            else:\n",
    "                if label == pred:\n",
    "                    cm['TN'] += 1\n",
    "                else:\n",
    "                    cm['FP'] += 1\n",
    "                \n",
    "        return cm\n",
    "    \n",
    "    def ensemble_pretty_conf_matrix(self):\n",
    "        \n",
    "        Ensemble.conf_matrix(self.y_val, self.y_predicted)\n",
    "        cnf_matrix = confusion_matrix(self.y_val, self.y_predicted)\n",
    "        \n",
    "        plt.figure(figsize=(6,6))\n",
    "        plt.imshow(cnf_matrix, cmap=plt.cm.Greens)\n",
    "        \n",
    "        plt.title('Confusion Matrix')\n",
    "        plt.ylabel('True label')\n",
    "        plt.xlabel('Predicted label')\n",
    "        \n",
    "        class_names = set(y)\n",
    "        tick_marks = np.arange(len(class_names))\n",
    "        plt.xticks(tick_marks, class_names, rotation=45)\n",
    "        plt.yticks(tick_marks, class_names)\n",
    "\n",
    "        thresh = cnf_matrix.max() / 2.\n",
    "        for i, j in itertools.product(range(cnf_matrix.shape[0]), range(cnf_matrix.shape[1])):\n",
    "                plt.text(j, i, cnf_matrix[i, j],\n",
    "                         horizontalalignment='center')\n",
    "        plt.colorbar"
   ]
  },
  {
   "cell_type": "code",
   "execution_count": 65,
   "metadata": {},
   "outputs": [],
   "source": [
    "log_reg = ('lr', logistic_regression.best_model)\n",
    "rand_forest = ('rnd', random_forest.best_model)\n",
    "estimators = [log_reg, rand_forest]"
   ]
  },
  {
   "cell_type": "code",
   "execution_count": 66,
   "metadata": {},
   "outputs": [],
   "source": [
    "voting = Ensemble(\"Voting\", estimators, X_train, X_val, y_train, y_val)"
   ]
  },
  {
   "cell_type": "code",
   "execution_count": 67,
   "metadata": {},
   "outputs": [
    {
     "data": {
      "text/html": [
       "<div>\n",
       "<style scoped>\n",
       "    .dataframe tbody tr th:only-of-type {\n",
       "        vertical-align: middle;\n",
       "    }\n",
       "\n",
       "    .dataframe tbody tr th {\n",
       "        vertical-align: top;\n",
       "    }\n",
       "\n",
       "    .dataframe thead th {\n",
       "        text-align: right;\n",
       "    }\n",
       "</style>\n",
       "<table border=\"1\" class=\"dataframe\">\n",
       "  <thead>\n",
       "    <tr style=\"text-align: right;\">\n",
       "      <th></th>\n",
       "      <th>Model</th>\n",
       "      <th>Train AUC</th>\n",
       "      <th>Validation AUC</th>\n",
       "    </tr>\n",
       "  </thead>\n",
       "  <tbody>\n",
       "    <tr>\n",
       "      <td>0</td>\n",
       "      <td>Voting</td>\n",
       "      <td>0.981654</td>\n",
       "      <td>0.9391</td>\n",
       "    </tr>\n",
       "  </tbody>\n",
       "</table>\n",
       "</div>"
      ],
      "text/plain": [
       "    Model  Train AUC  Validation AUC\n",
       "0  Voting   0.981654          0.9391"
      ]
     },
     "metadata": {},
     "output_type": "display_data"
    },
    {
     "name": "stdout",
     "output_type": "stream",
     "text": [
      "The best hyperparameters are:  {} \n",
      "\n"
     ]
    },
    {
     "data": {
      "image/png": "[encoded data removed]",
      "text/plain": [
       "<Figure size 504x504 with 1 Axes>"
      ]
     },
     "metadata": {
      "needs_background": "light"
     },
     "output_type": "display_data"
    }
   ],
   "source": [
    "voting.ensemble_get_scores({}, skf)"
   ]
  },
  {
   "cell_type": "code",
   "execution_count": 68,
   "metadata": {},
   "outputs": [
    {
     "data": {
      "image/png": "[encoded data removed]",
      "text/plain": [
       "<Figure size 432x432 with 1 Axes>"
      ]
     },
     "metadata": {
      "needs_background": "light"
     },
     "output_type": "display_data"
    }
   ],
   "source": [
    "voting.ensemble_pretty_conf_matrix()"
   ]
  },
  {
   "cell_type": "markdown",
   "metadata": {},
   "source": [
    "## 4.5. Logistic Regression"
   ]
  },
  {
   "cell_type": "code",
   "execution_count": 27,
   "metadata": {
    "Collapsed": "false"
   },
   "outputs": [],
   "source": [
    "logistic_regression = Classification('Logistic Regression', X_train, X_val, y_train, y_val)"
   ]
  },
  {
   "cell_type": "code",
   "execution_count": 28,
   "metadata": {},
   "outputs": [
    {
     "data": {
      "text/html": [
       "<div>\n",
       "<style scoped>\n",
       "    .dataframe tbody tr th:only-of-type {\n",
       "        vertical-align: middle;\n",
       "    }\n",
       "\n",
       "    .dataframe tbody tr th {\n",
       "        vertical-align: top;\n",
       "    }\n",
       "\n",
       "    .dataframe thead th {\n",
       "        text-align: right;\n",
       "    }\n",
       "</style>\n",
       "<table border=\"1\" class=\"dataframe\">\n",
       "  <thead>\n",
       "    <tr style=\"text-align: right;\">\n",
       "      <th></th>\n",
       "      <th>Model</th>\n",
       "      <th>Train AUC</th>\n",
       "      <th>Validation AUC</th>\n",
       "    </tr>\n",
       "  </thead>\n",
       "  <tbody>\n",
       "    <tr>\n",
       "      <td>0</td>\n",
       "      <td>Logistic Regression</td>\n",
       "      <td>0.911448</td>\n",
       "      <td>0.906519</td>\n",
       "    </tr>\n",
       "  </tbody>\n",
       "</table>\n",
       "</div>"
      ],
      "text/plain": [
       "                 Model  Train AUC  Validation AUC\n",
       "0  Logistic Regression   0.911448        0.906519"
      ]
     },
     "metadata": {},
     "output_type": "display_data"
    },
    {
     "name": "stdout",
     "output_type": "stream",
     "text": [
      "The best hyperparameters are:  {'C': 1} \n",
      "\n"
     ]
    },
    {
     "data": {
      "image/png": "[encoded data removed]",
      "text/plain": [
       "<Figure size 504x504 with 1 Axes>"
      ]
     },
     "metadata": {
      "needs_background": "light"
     },
     "output_type": "display_data"
    }
   ],
   "source": [
    "param_grid = {'C':[0.1,1,10,100]}\n",
    "#               'solver':['newton-cg','lbfgs','liblinear','sag','saga']}\n",
    "logistic_regression.get_scores(param_grid, skf)"
   ]
  },
  {
   "cell_type": "code",
   "execution_count": 29,
   "metadata": {},
   "outputs": [
    {
     "data": {
      "image/png": "[encoded data removed]",
      "text/plain": [
       "<Figure size 432x432 with 1 Axes>"
      ]
     },
     "metadata": {
      "needs_background": "light"
     },
     "output_type": "display_data"
    }
   ],
   "source": [
    "logistic_regression.pretty_conf_matrix()"
   ]
  },
  {
   "cell_type": "markdown",
   "metadata": {},
   "source": [
    "## 4.6. Decision Trees"
   ]
  },
  {
   "cell_type": "markdown",
   "metadata": {},
   "source": [
    "### 4.6.1. Iteration 1"
   ]
  },
  {
   "cell_type": "code",
   "execution_count": null,
   "metadata": {},
   "outputs": [],
   "source": [
    "param_grid = {'max_depth':[10,100,500,1000], 'min_samples_leaf':[1,10,100,1000]}\n",
    "decision_tree = Classification(\"Decision Tree\", X_train, X_val, y_train, y_val)\n",
    "decision_tree.get_scores(param_grid, skf)"
   ]
  },
  {
   "cell_type": "code",
   "execution_count": null,
   "metadata": {},
   "outputs": [],
   "source": [
    "decision_tree.opt_plots()"
   ]
  },
  {
   "cell_type": "markdown",
   "metadata": {},
   "source": [
    "### 4.6.1. Iteration 2"
   ]
  },
  {
   "cell_type": "code",
   "execution_count": null,
   "metadata": {},
   "outputs": [],
   "source": [
    "param_grid = {'max_depth':range(10,150,10), 'min_samples_leaf':range(50,150,10)}\n",
    "decision_tree = Classification(\"Decision Tree\", X_train, X_val, y_train, y_val)\n",
    "decision_tree.get_scores(param_grid, skf)"
   ]
  },
  {
   "cell_type": "code",
   "execution_count": null,
   "metadata": {},
   "outputs": [],
   "source": [
    "decision_tree.opt_plots()"
   ]
  },
  {
   "cell_type": "markdown",
   "metadata": {},
   "source": [
    "### 4.6.1. Iteration 3"
   ]
  },
  {
   "cell_type": "code",
   "execution_count": null,
   "metadata": {},
   "outputs": [],
   "source": [
    "param_grid = {'max_depth':range(15,25,1), 'min_samples_leaf':range(10,60,10)}\n",
    "decision_tree = Classification(\"Decision Tree\", X_train, X_val, y_train, y_val)\n",
    "decision_tree.get_scores(param_grid, skf)"
   ]
  },
  {
   "cell_type": "code",
   "execution_count": null,
   "metadata": {},
   "outputs": [],
   "source": [
    "decision_tree.opt_plots()"
   ]
  },
  {
   "cell_type": "markdown",
   "metadata": {},
   "source": [
    "### 4.6.1. Iteration 4"
   ]
  },
  {
   "cell_type": "code",
   "execution_count": null,
   "metadata": {},
   "outputs": [],
   "source": [
    "param_grid = {'max_depth':range(15,20,1), 'min_samples_leaf':range(25,35,1)}\n",
    "decision_tree = Classification(\"Decision Tree\", X_train, X_val, y_train, y_val)\n",
    "decision_tree.get_scores(param_grid, skf)"
   ]
  },
  {
   "cell_type": "code",
   "execution_count": null,
   "metadata": {},
   "outputs": [],
   "source": [
    "decision_tree.opt_plots()"
   ]
  },
  {
   "cell_type": "code",
   "execution_count": null,
   "metadata": {},
   "outputs": [],
   "source": [
    "decision_tree.pretty_conf_matrix()"
   ]
  },
  {
   "cell_type": "markdown",
   "metadata": {},
   "source": [
    "## 4.7. Random Forest"
   ]
  },
  {
   "cell_type": "markdown",
   "metadata": {},
   "source": [
    "### 4.7.1. Iteration 1"
   ]
  },
  {
   "cell_type": "code",
   "execution_count": null,
   "metadata": {},
   "outputs": [],
   "source": [
    "param_grid = {'max_depth':[10,100,500,1000], 'min_samples_leaf':[1,10,100,1000]}\n",
    "random_forest = Classification(\"Random Forest\", X_train, X_val, y_train, y_val)\n",
    "random_forest.get_scores(param_grid, skf)"
   ]
  },
  {
   "cell_type": "code",
   "execution_count": null,
   "metadata": {},
   "outputs": [],
   "source": [
    "random_forest.opt_plots()"
   ]
  },
  {
   "cell_type": "markdown",
   "metadata": {},
   "source": [
    "### 4.7.2. Iteration 2"
   ]
  },
  {
   "cell_type": "code",
   "execution_count": null,
   "metadata": {},
   "outputs": [],
   "source": [
    "param_grid = {'max_depth':range(50,150,10), 'min_samples_leaf':range(1,10,1)}\n",
    "random_forest = Classification(\"Random Forest\", X_train, X_val, y_train, y_val)\n",
    "random_forest.get_scores(param_grid, skf)"
   ]
  },
  {
   "cell_type": "code",
   "execution_count": null,
   "metadata": {},
   "outputs": [],
   "source": [
    "random_forest.opt_plots()"
   ]
  },
  {
   "cell_type": "markdown",
   "metadata": {},
   "source": [
    "### 4.7.3. Iteration 3"
   ]
  },
  {
   "cell_type": "code",
   "execution_count": 30,
   "metadata": {},
   "outputs": [
    {
     "data": {
      "text/html": [
       "<div>\n",
       "<style scoped>\n",
       "    .dataframe tbody tr th:only-of-type {\n",
       "        vertical-align: middle;\n",
       "    }\n",
       "\n",
       "    .dataframe tbody tr th {\n",
       "        vertical-align: top;\n",
       "    }\n",
       "\n",
       "    .dataframe thead th {\n",
       "        text-align: right;\n",
       "    }\n",
       "</style>\n",
       "<table border=\"1\" class=\"dataframe\">\n",
       "  <thead>\n",
       "    <tr style=\"text-align: right;\">\n",
       "      <th></th>\n",
       "      <th>Model</th>\n",
       "      <th>Train AUC</th>\n",
       "      <th>Validation AUC</th>\n",
       "    </tr>\n",
       "  </thead>\n",
       "  <tbody>\n",
       "    <tr>\n",
       "      <td>0</td>\n",
       "      <td>Random Forest</td>\n",
       "      <td>0.996691</td>\n",
       "      <td>0.944151</td>\n",
       "    </tr>\n",
       "  </tbody>\n",
       "</table>\n",
       "</div>"
      ],
      "text/plain": [
       "           Model  Train AUC  Validation AUC\n",
       "0  Random Forest   0.996691        0.944151"
      ]
     },
     "metadata": {},
     "output_type": "display_data"
    },
    {
     "name": "stdout",
     "output_type": "stream",
     "text": [
      "The best hyperparameters are:  {'max_depth': 42, 'min_samples_leaf': 1} \n",
      "\n"
     ]
    },
    {
     "data": {
      "image/png": "[encoded data removed]",
      "text/plain": [
       "<Figure size 504x504 with 1 Axes>"
      ]
     },
     "metadata": {
      "needs_background": "light"
     },
     "output_type": "display_data"
    }
   ],
   "source": [
    "param_grid = {'max_depth':range(10,60,2), 'min_samples_leaf':range(1,3,1)}\n",
    "random_forest = Classification(\"Random Forest\", X_train, X_val, y_train, y_val)\n",
    "random_forest.get_scores(param_grid, skf)"
   ]
  },
  {
   "cell_type": "code",
   "execution_count": 31,
   "metadata": {},
   "outputs": [
    {
     "data": {
      "image/png": "[encoded data removed]",
      "text/plain": [
       "<Figure size 1080x288 with 4 Axes>"
      ]
     },
     "metadata": {
      "needs_background": "light"
     },
     "output_type": "display_data"
    }
   ],
   "source": [
    "random_forest.opt_plots()"
   ]
  },
  {
   "cell_type": "code",
   "execution_count": 32,
   "metadata": {},
   "outputs": [
    {
     "data": {
      "image/png": "[encoded data removed]",
      "text/plain": [
       "<Figure size 432x432 with 1 Axes>"
      ]
     },
     "metadata": {
      "needs_background": "light"
     },
     "output_type": "display_data"
    }
   ],
   "source": [
    "random_forest.pretty_conf_matrix()"
   ]
  },
  {
   "cell_type": "markdown",
   "metadata": {},
   "source": [
    "# Ensemble Methods"
   ]
  },
  {
   "cell_type": "markdown",
   "metadata": {},
   "source": [
    "## Voting Classifier"
   ]
  },
  {
   "cell_type": "code",
   "execution_count": null,
   "metadata": {},
   "outputs": [],
   "source": [
    "voting = Classification('Voting', X_train, X_val, y_train, y_val)\n",
    "param_grid = {}\n",
    "voting.get_scores(param_grid, skf)"
   ]
  },
  {
   "cell_type": "code",
   "execution_count": null,
   "metadata": {},
   "outputs": [],
   "source": [
    "voting.pretty_conf_matrix()"
   ]
  },
  {
   "cell_type": "markdown",
   "metadata": {},
   "source": [
    "## AdaBoost"
   ]
  },
  {
   "cell_type": "code",
   "execution_count": null,
   "metadata": {},
   "outputs": [],
   "source": []
  }
 ],
 "metadata": {
  "kernelspec": {
   "display_name": "Python 3",
   "language": "python",
   "name": "python3"
  },
  "language_info": {
   "codemirror_mode": {
    "name": "ipython",
    "version": 3
   },
   "file_extension": ".py",
   "mimetype": "text/x-python",
   "name": "python",
   "nbconvert_exporter": "python",
   "pygments_lexer": "ipython3",
   "version": "3.7.4"
  }
 },
 "nbformat": 4,
 "nbformat_minor": 4
}
